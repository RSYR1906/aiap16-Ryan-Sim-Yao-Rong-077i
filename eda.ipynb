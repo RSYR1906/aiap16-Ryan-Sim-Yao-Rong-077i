{
 "cells": [
  {
   "cell_type": "markdown",
   "id": "68ad3d39-e4fc-40ef-9928-3e80df4da4c9",
   "metadata": {},
   "source": [
    "Lung cancer, also known as lung carcinoma, is a malignant lung tumor characterized by uncontrolled cell growth in tissues of the lung. This growth can spread beyond the lung by the process of metastasis into nearby tissue or other parts of the body."
   ]
  },
  {
   "cell_type": "markdown",
   "id": "3a1ab520-395f-49f0-bbdc-aa49894900ea",
   "metadata": {},
   "source": [
    "Import Libraries"
   ]
  },
  {
   "cell_type": "code",
   "execution_count": 120,
   "id": "2224a169-d51a-414b-8e8a-d5f54bf2facd",
   "metadata": {},
   "outputs": [],
   "source": [
    "import pandas as pd\n",
    "import numpy as np\n",
    "import matplotlib.pyplot as plt\n",
    "import seaborn as sns\n",
    "import sqlite3\n",
    "import pandas as pd\n",
    "import xgboost as xgb\n"
   ]
  },
  {
   "cell_type": "markdown",
   "id": "1b469a39-3d65-4142-9c9c-77158ed8a895",
   "metadata": {},
   "source": [
    "Data"
   ]
  },
  {
   "cell_type": "code",
   "execution_count": 121,
   "id": "14841b4d-62da-42e9-840c-74a1ba40ada7",
   "metadata": {},
   "outputs": [
    {
     "data": {
      "text/html": [
       "<div>\n",
       "<style scoped>\n",
       "    .dataframe tbody tr th:only-of-type {\n",
       "        vertical-align: middle;\n",
       "    }\n",
       "\n",
       "    .dataframe tbody tr th {\n",
       "        vertical-align: top;\n",
       "    }\n",
       "\n",
       "    .dataframe thead th {\n",
       "        text-align: right;\n",
       "    }\n",
       "</style>\n",
       "<table border=\"1\" class=\"dataframe\">\n",
       "  <thead>\n",
       "    <tr style=\"text-align: right;\">\n",
       "      <th></th>\n",
       "      <th>ID</th>\n",
       "      <th>Age</th>\n",
       "      <th>Gender</th>\n",
       "      <th>COPD History</th>\n",
       "      <th>Genetic Markers</th>\n",
       "      <th>Air Pollution Exposure</th>\n",
       "      <th>Last Weight</th>\n",
       "      <th>Current Weight</th>\n",
       "      <th>Start Smoking</th>\n",
       "      <th>Stop Smoking</th>\n",
       "      <th>Taken Bronchodilators</th>\n",
       "      <th>Frequency of Tiredness</th>\n",
       "      <th>Dominant Hand</th>\n",
       "      <th>Lung Cancer Occurrence</th>\n",
       "    </tr>\n",
       "  </thead>\n",
       "  <tbody>\n",
       "    <tr>\n",
       "      <th>0</th>\n",
       "      <td>1.468154e+16</td>\n",
       "      <td>42</td>\n",
       "      <td>Male</td>\n",
       "      <td>No</td>\n",
       "      <td>Not Present</td>\n",
       "      <td>Medium</td>\n",
       "      <td>73</td>\n",
       "      <td>69</td>\n",
       "      <td>2015</td>\n",
       "      <td>2020</td>\n",
       "      <td>No</td>\n",
       "      <td>None / Low</td>\n",
       "      <td>Right</td>\n",
       "      <td>1</td>\n",
       "    </tr>\n",
       "    <tr>\n",
       "      <th>1</th>\n",
       "      <td>1.271684e+18</td>\n",
       "      <td>72</td>\n",
       "      <td>Male</td>\n",
       "      <td>Yes</td>\n",
       "      <td>Not Present</td>\n",
       "      <td>High</td>\n",
       "      <td>50</td>\n",
       "      <td>42</td>\n",
       "      <td>2006</td>\n",
       "      <td>2012</td>\n",
       "      <td>Yes</td>\n",
       "      <td>Medium</td>\n",
       "      <td>Right</td>\n",
       "      <td>1</td>\n",
       "    </tr>\n",
       "    <tr>\n",
       "      <th>2</th>\n",
       "      <td>1.708068e+18</td>\n",
       "      <td>65</td>\n",
       "      <td>Male</td>\n",
       "      <td>Yes</td>\n",
       "      <td>Not Present</td>\n",
       "      <td>Low</td>\n",
       "      <td>65</td>\n",
       "      <td>75</td>\n",
       "      <td>1998</td>\n",
       "      <td>Still Smoking</td>\n",
       "      <td>Yes</td>\n",
       "      <td>None / Low</td>\n",
       "      <td>Right</td>\n",
       "      <td>0</td>\n",
       "    </tr>\n",
       "    <tr>\n",
       "      <th>3</th>\n",
       "      <td>3.555829e+17</td>\n",
       "      <td>67</td>\n",
       "      <td>Male</td>\n",
       "      <td>No</td>\n",
       "      <td>Not Present</td>\n",
       "      <td>High</td>\n",
       "      <td>69</td>\n",
       "      <td>58</td>\n",
       "      <td>2011</td>\n",
       "      <td>2014</td>\n",
       "      <td>No</td>\n",
       "      <td>None / Low</td>\n",
       "      <td>Right</td>\n",
       "      <td>1</td>\n",
       "    </tr>\n",
       "    <tr>\n",
       "      <th>4</th>\n",
       "      <td>1.684598e+18</td>\n",
       "      <td>54</td>\n",
       "      <td>Male</td>\n",
       "      <td>Yes</td>\n",
       "      <td>Not Present</td>\n",
       "      <td>Medium</td>\n",
       "      <td>46</td>\n",
       "      <td>40</td>\n",
       "      <td>1994</td>\n",
       "      <td>2017</td>\n",
       "      <td>Yes</td>\n",
       "      <td>None / Low</td>\n",
       "      <td>Right</td>\n",
       "      <td>0</td>\n",
       "    </tr>\n",
       "    <tr>\n",
       "      <th>...</th>\n",
       "      <td>...</td>\n",
       "      <td>...</td>\n",
       "      <td>...</td>\n",
       "      <td>...</td>\n",
       "      <td>...</td>\n",
       "      <td>...</td>\n",
       "      <td>...</td>\n",
       "      <td>...</td>\n",
       "      <td>...</td>\n",
       "      <td>...</td>\n",
       "      <td>...</td>\n",
       "      <td>...</td>\n",
       "      <td>...</td>\n",
       "      <td>...</td>\n",
       "    </tr>\n",
       "    <tr>\n",
       "      <th>10343</th>\n",
       "      <td>6.202150e+17</td>\n",
       "      <td>47</td>\n",
       "      <td>Male</td>\n",
       "      <td>Yes</td>\n",
       "      <td>Present</td>\n",
       "      <td>Low</td>\n",
       "      <td>55</td>\n",
       "      <td>50</td>\n",
       "      <td>2009</td>\n",
       "      <td>Still Smoking</td>\n",
       "      <td>Yes</td>\n",
       "      <td>Medium</td>\n",
       "      <td>Right</td>\n",
       "      <td>0</td>\n",
       "    </tr>\n",
       "    <tr>\n",
       "      <th>10344</th>\n",
       "      <td>1.157407e+18</td>\n",
       "      <td>59</td>\n",
       "      <td>Female</td>\n",
       "      <td>Yes</td>\n",
       "      <td>Not Present</td>\n",
       "      <td>Low</td>\n",
       "      <td>80</td>\n",
       "      <td>81</td>\n",
       "      <td>2008</td>\n",
       "      <td>2011</td>\n",
       "      <td>Yes</td>\n",
       "      <td>Medium</td>\n",
       "      <td>RightBoth</td>\n",
       "      <td>0</td>\n",
       "    </tr>\n",
       "    <tr>\n",
       "      <th>10345</th>\n",
       "      <td>1.488014e+18</td>\n",
       "      <td>34</td>\n",
       "      <td>Male</td>\n",
       "      <td>No</td>\n",
       "      <td>Not Present</td>\n",
       "      <td>High</td>\n",
       "      <td>65</td>\n",
       "      <td>57</td>\n",
       "      <td>2020</td>\n",
       "      <td>Still Smoking</td>\n",
       "      <td>No</td>\n",
       "      <td>Medium</td>\n",
       "      <td>RightBoth</td>\n",
       "      <td>1</td>\n",
       "    </tr>\n",
       "    <tr>\n",
       "      <th>10346</th>\n",
       "      <td>3.987035e+17</td>\n",
       "      <td>69</td>\n",
       "      <td>Male</td>\n",
       "      <td>No</td>\n",
       "      <td>Not Present</td>\n",
       "      <td>High</td>\n",
       "      <td>81</td>\n",
       "      <td>75</td>\n",
       "      <td>2014</td>\n",
       "      <td>Still Smoking</td>\n",
       "      <td>No</td>\n",
       "      <td>Medium</td>\n",
       "      <td>Right</td>\n",
       "      <td>1</td>\n",
       "    </tr>\n",
       "    <tr>\n",
       "      <th>10347</th>\n",
       "      <td>1.297767e+18</td>\n",
       "      <td>60</td>\n",
       "      <td>MALE</td>\n",
       "      <td>None</td>\n",
       "      <td>Not Present</td>\n",
       "      <td>Medium</td>\n",
       "      <td>82</td>\n",
       "      <td>75</td>\n",
       "      <td>1969</td>\n",
       "      <td>1982</td>\n",
       "      <td>No</td>\n",
       "      <td>None / Low</td>\n",
       "      <td>Right</td>\n",
       "      <td>0</td>\n",
       "    </tr>\n",
       "  </tbody>\n",
       "</table>\n",
       "<p>10348 rows × 14 columns</p>\n",
       "</div>"
      ],
      "text/plain": [
       "                 ID  Age  Gender COPD History Genetic Markers  \\\n",
       "0      1.468154e+16   42    Male           No     Not Present   \n",
       "1      1.271684e+18   72    Male          Yes     Not Present   \n",
       "2      1.708068e+18   65    Male          Yes     Not Present   \n",
       "3      3.555829e+17   67    Male           No     Not Present   \n",
       "4      1.684598e+18   54    Male          Yes     Not Present   \n",
       "...             ...  ...     ...          ...             ...   \n",
       "10343  6.202150e+17   47    Male          Yes         Present   \n",
       "10344  1.157407e+18   59  Female          Yes     Not Present   \n",
       "10345  1.488014e+18   34    Male           No     Not Present   \n",
       "10346  3.987035e+17   69    Male           No     Not Present   \n",
       "10347  1.297767e+18   60    MALE         None     Not Present   \n",
       "\n",
       "      Air Pollution Exposure  Last Weight  Current Weight Start Smoking  \\\n",
       "0                     Medium           73              69          2015   \n",
       "1                       High           50              42          2006   \n",
       "2                        Low           65              75          1998   \n",
       "3                       High           69              58          2011   \n",
       "4                     Medium           46              40          1994   \n",
       "...                      ...          ...             ...           ...   \n",
       "10343                    Low           55              50          2009   \n",
       "10344                    Low           80              81          2008   \n",
       "10345                   High           65              57          2020   \n",
       "10346                   High           81              75          2014   \n",
       "10347                 Medium           82              75          1969   \n",
       "\n",
       "        Stop Smoking Taken Bronchodilators Frequency of Tiredness  \\\n",
       "0               2020                    No             None / Low   \n",
       "1               2012                   Yes                 Medium   \n",
       "2      Still Smoking                   Yes             None / Low   \n",
       "3               2014                    No             None / Low   \n",
       "4               2017                   Yes             None / Low   \n",
       "...              ...                   ...                    ...   \n",
       "10343  Still Smoking                   Yes                 Medium   \n",
       "10344           2011                   Yes                 Medium   \n",
       "10345  Still Smoking                    No                 Medium   \n",
       "10346  Still Smoking                    No                 Medium   \n",
       "10347           1982                    No             None / Low   \n",
       "\n",
       "      Dominant Hand  Lung Cancer Occurrence  \n",
       "0             Right                       1  \n",
       "1             Right                       1  \n",
       "2             Right                       0  \n",
       "3             Right                       1  \n",
       "4             Right                       0  \n",
       "...             ...                     ...  \n",
       "10343         Right                       0  \n",
       "10344     RightBoth                       0  \n",
       "10345     RightBoth                       1  \n",
       "10346         Right                       1  \n",
       "10347         Right                       0  \n",
       "\n",
       "[10348 rows x 14 columns]"
      ]
     },
     "execution_count": 121,
     "metadata": {},
     "output_type": "execute_result"
    }
   ],
   "source": [
    "# Connect to the SQLite database\n",
    "conn = sqlite3.connect('/Users/ryan/Downloads/lung_cancer.db')\n",
    "\n",
    "# Read a table into a pandas DataFrame\n",
    "df = pd.read_sql_query(\"SELECT * FROM lung_cancer\", conn)\n",
    "\n",
    "# Write the DataFrame to a CSV file\n",
    "df.to_csv('lung_cancer.csv', index=False)\n",
    "\n",
    "# Close the connection\n",
    "conn.close()\n",
    "\n",
    "df"
   ]
  },
  {
   "cell_type": "code",
   "execution_count": 122,
   "id": "5dcacc06-cbcd-4632-9b39-723e979850f9",
   "metadata": {},
   "outputs": [
    {
     "data": {
      "text/plain": [
       "350"
      ]
     },
     "execution_count": 122,
     "metadata": {},
     "output_type": "execute_result"
    }
   ],
   "source": [
    "#Checking for duplicates\n",
    "df.duplicated().sum()"
   ]
  },
  {
   "cell_type": "code",
   "execution_count": 123,
   "id": "74ac4a06-bb7f-48fe-a1e7-2bd77cb3b878",
   "metadata": {},
   "outputs": [
    {
     "data": {
      "text/plain": [
       "0         male\n",
       "1         male\n",
       "2         male\n",
       "3         male\n",
       "4         male\n",
       "         ...  \n",
       "9993    female\n",
       "9994    female\n",
       "9995    female\n",
       "9996    female\n",
       "9997    female\n",
       "Name: Gender, Length: 9778, dtype: object"
      ]
     },
     "execution_count": 123,
     "metadata": {},
     "output_type": "execute_result"
    }
   ],
   "source": [
    "#Dropping the duplicates\n",
    "df=df.drop_duplicates()\n",
    "\n",
    "#Dropping the NA values in the dataset\n",
    "df.dropna()\n",
    "\n",
    "#Removing the samples that have negative values for the \"Age\" Column as value for Age cannot be negative.\n",
    "df = df[df['Age'] >= 0]\n",
    "\n",
    "#There are inconsistency in the casing of the strings in the \"Gender\" Column thus changing all to lowercase for easy sorting\n",
    "df['Gender'].str.lower()"
   ]
  },
  {
   "cell_type": "code",
   "execution_count": 124,
   "id": "ca967552-b8af-47bc-b2b4-c1983401fcae",
   "metadata": {},
   "outputs": [
    {
     "name": "stdout",
     "output_type": "stream",
     "text": [
      "<class 'pandas.core.frame.DataFrame'>\n",
      "Index: 9778 entries, 0 to 9997\n",
      "Data columns (total 14 columns):\n",
      " #   Column                  Non-Null Count  Dtype  \n",
      "---  ------                  --------------  -----  \n",
      " 0   ID                      9778 non-null   float64\n",
      " 1   Age                     9778 non-null   int64  \n",
      " 2   Gender                  9778 non-null   object \n",
      " 3   COPD History            8726 non-null   object \n",
      " 4   Genetic Markers         9778 non-null   object \n",
      " 5   Air Pollution Exposure  9775 non-null   object \n",
      " 6   Last Weight             9778 non-null   int64  \n",
      " 7   Current Weight          9778 non-null   int64  \n",
      " 8   Start Smoking           9778 non-null   object \n",
      " 9   Stop Smoking            9778 non-null   object \n",
      " 10  Taken Bronchodilators   8775 non-null   object \n",
      " 11  Frequency of Tiredness  9778 non-null   object \n",
      " 12  Dominant Hand           9778 non-null   object \n",
      " 13  Lung Cancer Occurrence  9778 non-null   int64  \n",
      "dtypes: float64(1), int64(4), object(9)\n",
      "memory usage: 1.1+ MB\n"
     ]
    }
   ],
   "source": [
    "#Checking the datatype for each of the columns\n",
    "df.info()"
   ]
  },
  {
   "cell_type": "markdown",
   "id": "c399750f-35a2-4012-81c2-e6f6d4393d61",
   "metadata": {},
   "source": [
    "Creating a new column \"Duration of Smoking\" by subtracting the \"Stop Smoking\" column with the \"Start Smoking\" column"
   ]
  },
  {
   "cell_type": "code",
   "execution_count": 125,
   "id": "cf3a5adb-4334-4619-96d4-399368c28c35",
   "metadata": {},
   "outputs": [],
   "source": [
    "#Changing still smoking to year 2024 such that it is numeric\n",
    "df.loc[df['Stop Smoking'] == 'Still Smoking', 'Stop Smoking'] = 2024\n",
    "\n",
    "#Replacing those 'Not Applicable' entries with 0, assuming they are non-smokers\n",
    "df['Stop Smoking'] =df[\"Stop Smoking\"].replace({'Not Applicable':0})\n",
    "df['Start Smoking'] =df[\"Start Smoking\"].replace({'Not Applicable':0})\n",
    "\n",
    "# Convert 'Start smoking' and 'Stop smoking' to numeric\n",
    "df['Start Smoking'] = pd.to_numeric(df['Start Smoking'])\n",
    "df['Stop Smoking'] = pd.to_numeric(df['Stop Smoking'])\n",
    "df['Duration of smoking (years)']=df['Stop Smoking'] - df['Start Smoking']"
   ]
  },
  {
   "cell_type": "code",
   "execution_count": 126,
   "id": "0b4c17b0-2abb-4960-be95-8a211412376b",
   "metadata": {},
   "outputs": [],
   "source": [
    "#Mapping the strings to integers\n",
    "air_pollution_mapping = {'Low': 0, 'Medium': 1, 'High': 2}\n",
    "df['Air Pollution Exposure'] = df['Air Pollution Exposure'].map(air_pollution_mapping)\n",
    "\n",
    "gender_mapping = {'male': 0, 'female': 1}\n",
    "df['Gender'] = df['Gender'].map(gender_mapping)\n",
    "\n",
    "frequency_of_tiredness_mapping = {'None / Low': 0, 'Medium': 1, 'High': 2}\n",
    "df['Frequency of Tiredness'] = df['Frequency of Tiredness'].map(frequency_of_tiredness_mapping)\n",
    "\n",
    "dominant_hand_mapping = {'Left': 0, 'Right': 1, 'RightBoth': 2}\n",
    "df['Dominant Hand'] = df['Dominant Hand'].map(dominant_hand_mapping)"
   ]
  },
  {
   "cell_type": "markdown",
   "id": "db43b328-eae9-4e47-9c25-e9dd2dd089ec",
   "metadata": {},
   "source": [
    "In this dataset, many of the attributes are in object data type. So, let's convert them to numerical values using LabelEncoder from sklearn. LabelEncoder is a utility class to help normalize labels such that they contain only values between 0 and n_classes-1. It can also be used to transform non-numerical labels (as long as they are hashable and comparable) to numerical labels."
   ]
  },
  {
   "cell_type": "code",
   "execution_count": 127,
   "id": "a6712a5c-dad4-4eb2-99c0-efca8e789ab0",
   "metadata": {},
   "outputs": [],
   "source": [
    "from sklearn import preprocessing\n",
    "le=preprocessing.LabelEncoder()\n",
    "df['Gender']=le.fit_transform(df['Gender'])\n",
    "df['COPD History']=le.fit_transform(df['COPD History'])\n",
    "df['Genetic Markers']=le.fit_transform(df['Genetic Markers'])\n",
    "df['Duration of smoking (years)']=le.fit_transform(df['Duration of smoking (years)'])\n",
    "df['Taken Bronchodilators']=le.fit_transform(df['Taken Bronchodilators'])"
   ]
  },
  {
   "cell_type": "code",
   "execution_count": 128,
   "id": "9a434fd8-a0c8-44b8-b9a6-883fd33fc3ff",
   "metadata": {},
   "outputs": [
    {
     "data": {
      "image/png": "[encoded data removed]",
      "text/plain": [
       "<Figure size 640x480 with 1 Axes>"
      ]
     },
     "metadata": {},
     "output_type": "display_data"
    }
   ],
   "source": [
    "sns.countplot(x='Lung Cancer Occurrence', hue='Lung Cancer Occurrence', data=df, dodge=False, palette='bright', legend=False)\n",
    "plt.title('Target Distribution');"
   ]
  },
  {
   "cell_type": "code",
   "execution_count": 129,
   "id": "5c0a3972-42c5-4286-84ea-0894d935cc28",
   "metadata": {},
   "outputs": [],
   "source": [
    "# function for plotting\n",
    "def plot(col, df=df):\n",
    "    return df.groupby(col)['Lung Cancer Occurrence'].value_counts(normalize=True).unstack().plot(kind='bar', figsize=(8,5))"
   ]
  },
  {
   "cell_type": "code",
   "execution_count": 130,
   "id": "6170a8d7-b865-485d-a087-1fb9c5bf9028",
   "metadata": {},
   "outputs": [
    {
     "data": {
      "text/plain": [
       "<Axes: xlabel='COPD History'>"
      ]
     },
     "execution_count": 130,
     "metadata": {},
     "output_type": "execute_result"
    },
    {
     "data": {
      "image/png": "[encoded data removed]",
      "text/plain": [
       "<Figure size 800x500 with 1 Axes>"
      ]
     },
     "metadata": {},
     "output_type": "display_data"
    }
   ],
   "source": [
    "plot('COPD History')"
   ]
  },
  {
   "cell_type": "code",
   "execution_count": 131,
   "id": "7cb9caa0-3010-488c-b806-569bc88f6967",
   "metadata": {},
   "outputs": [
    {
     "data": {
      "text/plain": [
       "<Axes: xlabel='Genetic Markers'>"
      ]
     },
     "execution_count": 131,
     "metadata": {},
     "output_type": "execute_result"
    },
    {
     "data": {
      "image/png": "[encoded data removed]",
      "text/plain": [
       "<Figure size 800x500 with 1 Axes>"
      ]
     },
     "metadata": {},
     "output_type": "display_data"
    }
   ],
   "source": [
    "plot('Genetic Markers')"
   ]
  },
  {
   "cell_type": "code",
   "execution_count": 132,
   "id": "b75fbb97-d7ce-41b8-98fa-f4fc5d3e5c58",
   "metadata": {},
   "outputs": [
    {
     "data": {
      "text/plain": [
       "<Axes: xlabel='Taken Bronchodilators'>"
      ]
     },
     "execution_count": 132,
     "metadata": {},
     "output_type": "execute_result"
    },
    {
     "data": {
      "image/png": "[encoded data removed]",
      "text/plain": [
       "<Figure size 800x500 with 1 Axes>"
      ]
     },
     "metadata": {},
     "output_type": "display_data"
    }
   ],
   "source": [
    "plot('Taken Bronchodilators')"
   ]
  },
  {
   "cell_type": "code",
   "execution_count": 133,
   "id": "3e12efac-ca77-4922-91ab-485c33bfe131",
   "metadata": {},
   "outputs": [],
   "source": [
    "# Define bins as per your requirement\n",
    "bins = [0, 18, 30, 40, 50, 60, 70, 80, 90, 100]\n",
    "labels = ['0-18', '19-30', '31-40', '41-50', '51-60', '61-70', '71-80', '81-90', '91-100']\n",
    "df['AgeGroup'] = pd.cut(df['Age'], bins=bins, labels=labels, right=False)"
   ]
  },
  {
   "cell_type": "code",
   "execution_count": 134,
   "id": "84e3d778-a86b-4982-a4b8-200626e8f08e",
   "metadata": {},
   "outputs": [
    {
     "data": {
      "image/png": "[encoded data removed]",
      "text/plain": [
       "<Figure size 640x480 with 1 Axes>"
      ]
     },
     "metadata": {},
     "output_type": "display_data"
    }
   ],
   "source": [
    "sns.countplot(x='AgeGroup', data=df)\n",
    "plt.title('Age Group Distribution')\n",
    "plt.xticks(rotation=45) # Rotate x-axis labels for better readability\n",
    "plt.show()\n"
   ]
  },
  {
   "cell_type": "code",
   "execution_count": 135,
   "id": "ae6d8db7-2cdc-4dcd-9298-710bc6c95fc4",
   "metadata": {},
   "outputs": [],
   "source": [
    "#None/Low = 0\n",
    "#Medium =1\n",
    "#High = 2"
   ]
  },
  {
   "cell_type": "code",
   "execution_count": 136,
   "id": "5642a589-01be-4c5b-a0b1-a2b3612b953b",
   "metadata": {},
   "outputs": [
    {
     "data": {
      "image/png": "[encoded data removed]",
      "text/plain": [
       "<Figure size 640x480 with 1 Axes>"
      ]
     },
     "metadata": {},
     "output_type": "display_data"
    }
   ],
   "source": [
    "#Let's check the distributaion of Target variable.\n",
    "color_dict = {\n",
    "    '0': 'blue', \n",
    "    '1': 'green', \n",
    "    '2': 'yellow'}\n",
    "sns.countplot(x='Frequency of Tiredness', hue='Frequency of Tiredness', data=df, dodge=False, palette='bright', legend=False)\n",
    "plt.title('Frequency of Tiredness Distribution');"
   ]
  },
  {
   "cell_type": "code",
   "execution_count": 137,
   "id": "bf832147-f569-4f4b-b66a-e5aa00d94077",
   "metadata": {},
   "outputs": [],
   "source": [
    "#Low = 0\n",
    "#Medium =1\n",
    "#High = 2"
   ]
  },
  {
   "cell_type": "code",
   "execution_count": 138,
   "id": "6cbcad5c-dcb3-44d8-bcbe-3d69b312bc5f",
   "metadata": {},
   "outputs": [
    {
     "data": {
      "image/png": "[encoded data removed]",
      "text/plain": [
       "<Figure size 640x480 with 1 Axes>"
      ]
     },
     "metadata": {},
     "output_type": "display_data"
    }
   ],
   "source": [
    "#Let's check the distributaion of Target variable.\n",
    "sns.countplot(x='Air Pollution Exposure', hue='Air Pollution Exposure', data=df, dodge=False, palette='bright', legend=False)\n",
    "plt.title('Air Pollution Exposure Distribution');"
   ]
  },
  {
   "cell_type": "code",
   "execution_count": 139,
   "id": "3dcd2db6-81af-44ff-8de2-edace5a6a290",
   "metadata": {},
   "outputs": [
    {
     "data": {
      "image/png": "[encoded data removed]",
      "text/plain": [
       "<Figure size 640x480 with 1 Axes>"
      ]
     },
     "metadata": {},
     "output_type": "display_data"
    }
   ],
   "source": [
    "# Define bins as per your requirement\n",
    "bins = [0,5,10,20,35,55,80]\n",
    "labels = ['0-5', '6-10', '11-20', '21-35', '36-55', '56-80']\n",
    "df['Duration of smoking (years)'] = pd.cut(df['Duration of smoking (years)'], bins=bins, labels=labels, right=False)\n",
    "\n",
    "sns.countplot(x='Duration of smoking (years)', data=df)\n",
    "plt.title('Duration of smoking (years) Distribution')\n",
    "plt.xticks(rotation=45) # Rotate x-axis labels for better readability\n",
    "plt.show()\n"
   ]
  },
  {
   "cell_type": "code",
   "execution_count": 140,
   "id": "47bcd46c-346e-4a5d-a28c-f0720117b006",
   "metadata": {},
   "outputs": [
    {
     "name": "stdout",
     "output_type": "stream",
     "text": [
      "                ID  Age  Gender  COPD History  Genetic Markers  \\\n",
      "0     1.468154e+16   42       0             0                0   \n",
      "1     1.271684e+18   72       0             1                0   \n",
      "2     1.708068e+18   65       0             1                0   \n",
      "3     3.555829e+17   67       0             0                0   \n",
      "4     1.684598e+18   54       0             1                0   \n",
      "...            ...  ...     ...           ...              ...   \n",
      "9993  1.990595e+17   59       0             1                1   \n",
      "9994  1.571559e+18   76       0             1                1   \n",
      "9995  1.968467e+18   57       0             1                1   \n",
      "9996  9.739915e+16   74       0             1                0   \n",
      "9997  2.105403e+17   61       0             1                0   \n",
      "\n",
      "      Air Pollution Exposure  Last Weight  Current Weight  Start Smoking  \\\n",
      "0                        1.0           73              69           2015   \n",
      "1                        2.0           50              42           2006   \n",
      "2                        0.0           65              75           1998   \n",
      "3                        2.0           69              58           2011   \n",
      "4                        1.0           46              40           1994   \n",
      "...                      ...          ...             ...            ...   \n",
      "9993                     1.0           56              46           1984   \n",
      "9994                     2.0           90              78           1967   \n",
      "9995                     2.0           63              62           2007   \n",
      "9996                     2.0           87              77              0   \n",
      "9997                     2.0           95             100              0   \n",
      "\n",
      "      Stop Smoking  Taken Bronchodilators  Frequency of Tiredness  \\\n",
      "0             2020                      0                       0   \n",
      "1             2012                      1                       1   \n",
      "2             2024                      1                       0   \n",
      "3             2014                      0                       0   \n",
      "4             2017                      1                       0   \n",
      "...            ...                    ...                     ...   \n",
      "9993          1998                      1                       0   \n",
      "9994          1997                      1                       2   \n",
      "9995          2024                      1                       2   \n",
      "9996             0                      1                       0   \n",
      "9997             0                      1                       0   \n",
      "\n",
      "      Dominant Hand  Lung Cancer Occurrence Duration of smoking (years)  \\\n",
      "0                 1                       1                        6-10   \n",
      "1                 1                       1                        6-10   \n",
      "2                 1                       0                       21-35   \n",
      "3                 1                       1                         0-5   \n",
      "4                 1                       0                       21-35   \n",
      "...             ...                     ...                         ...   \n",
      "9993              0                       1                       11-20   \n",
      "9994              1                       1                       21-35   \n",
      "9995              1                       1                       11-20   \n",
      "9996              2                       0                         0-5   \n",
      "9997              1                       0                         0-5   \n",
      "\n",
      "     AgeGroup Duration of smoking (Midpoint in years)  \n",
      "0       41-50                                     8.0  \n",
      "1       71-80                                     8.0  \n",
      "2       61-70                                    28.0  \n",
      "3       61-70                                     2.5  \n",
      "4       51-60                                    28.0  \n",
      "...       ...                                     ...  \n",
      "9993    51-60                                    15.5  \n",
      "9994    71-80                                    28.0  \n",
      "9995    51-60                                    15.5  \n",
      "9996    71-80                                     2.5  \n",
      "9997    61-70                                     2.5  \n",
      "\n",
      "[9778 rows x 17 columns]\n"
     ]
    }
   ],
   "source": [
    "def range_to_midpoint(range_str):\n",
    "    low, high = map(int, range_str.split('-'))\n",
    "    return (low + high) / 2\n",
    "\n",
    "df['Duration of smoking (Midpoint in years)'] = df['Duration of smoking (years)'].apply(range_to_midpoint)\n",
    "\n",
    "print(df)"
   ]
  },
  {
   "cell_type": "code",
   "execution_count": 141,
   "id": "d8b189fb-c06d-4a5b-aad3-f5243572a228",
   "metadata": {},
   "outputs": [],
   "source": [
    "df_new = df.drop(columns=[\"Start Smoking\",\"Stop Smoking\",\"AgeGroup\",\"Duration of smoking (years)\"])\n",
    "\n",
    "df_new.dropna(subset=['Air Pollution Exposure','Duration of smoking (Midpoint in years)'],inplace=True)"
   ]
  },
  {
   "cell_type": "code",
   "execution_count": 142,
   "id": "f8ca3da6-0777-44a1-a293-6f41e6d2dbdd",
   "metadata": {},
   "outputs": [
    {
     "data": {
      "text/plain": [
       "ID                                         0\n",
       "Age                                        0\n",
       "Gender                                     0\n",
       "COPD History                               0\n",
       "Genetic Markers                            0\n",
       "Air Pollution Exposure                     0\n",
       "Last Weight                                0\n",
       "Current Weight                             0\n",
       "Taken Bronchodilators                      0\n",
       "Frequency of Tiredness                     0\n",
       "Dominant Hand                              0\n",
       "Lung Cancer Occurrence                     0\n",
       "Duration of smoking (Midpoint in years)    0\n",
       "dtype: int64"
      ]
     },
     "execution_count": 142,
     "metadata": {},
     "output_type": "execute_result"
    }
   ],
   "source": [
    "df_new.isnull().sum()"
   ]
  },
  {
   "cell_type": "code",
   "execution_count": 143,
   "id": "befb5888-14df-4634-88ad-9418fd632e09",
   "metadata": {},
   "outputs": [
    {
     "data": {
      "text/html": [
       "<div>\n",
       "<style scoped>\n",
       "    .dataframe tbody tr th:only-of-type {\n",
       "        vertical-align: middle;\n",
       "    }\n",
       "\n",
       "    .dataframe tbody tr th {\n",
       "        vertical-align: top;\n",
       "    }\n",
       "\n",
       "    .dataframe thead th {\n",
       "        text-align: right;\n",
       "    }\n",
       "</style>\n",
       "<table border=\"1\" class=\"dataframe\">\n",
       "  <thead>\n",
       "    <tr style=\"text-align: right;\">\n",
       "      <th></th>\n",
       "      <th>ID</th>\n",
       "      <th>Age</th>\n",
       "      <th>Gender</th>\n",
       "      <th>COPD History</th>\n",
       "      <th>Genetic Markers</th>\n",
       "      <th>Air Pollution Exposure</th>\n",
       "      <th>Last Weight</th>\n",
       "      <th>Current Weight</th>\n",
       "      <th>Taken Bronchodilators</th>\n",
       "      <th>Frequency of Tiredness</th>\n",
       "      <th>Dominant Hand</th>\n",
       "      <th>Lung Cancer Occurrence</th>\n",
       "      <th>Duration of smoking (Midpoint in years)</th>\n",
       "    </tr>\n",
       "  </thead>\n",
       "  <tbody>\n",
       "    <tr>\n",
       "      <th>ID</th>\n",
       "      <td>1.000000</td>\n",
       "      <td>-0.011513</td>\n",
       "      <td>NaN</td>\n",
       "      <td>-0.004676</td>\n",
       "      <td>-0.009867</td>\n",
       "      <td>-0.007456</td>\n",
       "      <td>-0.004114</td>\n",
       "      <td>0.000910</td>\n",
       "      <td>0.001359</td>\n",
       "      <td>-0.004154</td>\n",
       "      <td>0.017323</td>\n",
       "      <td>-0.003340</td>\n",
       "      <td>0.006174</td>\n",
       "    </tr>\n",
       "    <tr>\n",
       "      <th>Age</th>\n",
       "      <td>-0.011513</td>\n",
       "      <td>1.000000</td>\n",
       "      <td>NaN</td>\n",
       "      <td>-0.139735</td>\n",
       "      <td>0.094359</td>\n",
       "      <td>0.081254</td>\n",
       "      <td>-0.004729</td>\n",
       "      <td>-0.002589</td>\n",
       "      <td>-0.145586</td>\n",
       "      <td>0.137632</td>\n",
       "      <td>0.010991</td>\n",
       "      <td>0.011036</td>\n",
       "      <td>0.095548</td>\n",
       "    </tr>\n",
       "    <tr>\n",
       "      <th>Gender</th>\n",
       "      <td>NaN</td>\n",
       "      <td>NaN</td>\n",
       "      <td>NaN</td>\n",
       "      <td>NaN</td>\n",
       "      <td>NaN</td>\n",
       "      <td>NaN</td>\n",
       "      <td>NaN</td>\n",
       "      <td>NaN</td>\n",
       "      <td>NaN</td>\n",
       "      <td>NaN</td>\n",
       "      <td>NaN</td>\n",
       "      <td>NaN</td>\n",
       "      <td>NaN</td>\n",
       "    </tr>\n",
       "    <tr>\n",
       "      <th>COPD History</th>\n",
       "      <td>-0.004676</td>\n",
       "      <td>-0.139735</td>\n",
       "      <td>NaN</td>\n",
       "      <td>1.000000</td>\n",
       "      <td>0.068197</td>\n",
       "      <td>-0.044278</td>\n",
       "      <td>0.010840</td>\n",
       "      <td>0.010804</td>\n",
       "      <td>0.700865</td>\n",
       "      <td>-0.154697</td>\n",
       "      <td>0.007606</td>\n",
       "      <td>-0.017520</td>\n",
       "      <td>-0.022295</td>\n",
       "    </tr>\n",
       "    <tr>\n",
       "      <th>Genetic Markers</th>\n",
       "      <td>-0.009867</td>\n",
       "      <td>0.094359</td>\n",
       "      <td>NaN</td>\n",
       "      <td>0.068197</td>\n",
       "      <td>1.000000</td>\n",
       "      <td>-0.178247</td>\n",
       "      <td>0.001158</td>\n",
       "      <td>-0.031690</td>\n",
       "      <td>0.074708</td>\n",
       "      <td>0.093376</td>\n",
       "      <td>0.008905</td>\n",
       "      <td>0.192039</td>\n",
       "      <td>-0.026688</td>\n",
       "    </tr>\n",
       "    <tr>\n",
       "      <th>Air Pollution Exposure</th>\n",
       "      <td>-0.007456</td>\n",
       "      <td>0.081254</td>\n",
       "      <td>NaN</td>\n",
       "      <td>-0.044278</td>\n",
       "      <td>-0.178247</td>\n",
       "      <td>1.000000</td>\n",
       "      <td>0.003759</td>\n",
       "      <td>-0.014516</td>\n",
       "      <td>-0.039737</td>\n",
       "      <td>-0.039249</td>\n",
       "      <td>-0.011530</td>\n",
       "      <td>0.118414</td>\n",
       "      <td>0.038875</td>\n",
       "    </tr>\n",
       "    <tr>\n",
       "      <th>Last Weight</th>\n",
       "      <td>-0.004114</td>\n",
       "      <td>-0.004729</td>\n",
       "      <td>NaN</td>\n",
       "      <td>0.010840</td>\n",
       "      <td>0.001158</td>\n",
       "      <td>0.003759</td>\n",
       "      <td>1.000000</td>\n",
       "      <td>0.918492</td>\n",
       "      <td>0.016334</td>\n",
       "      <td>0.003251</td>\n",
       "      <td>-0.004232</td>\n",
       "      <td>-0.000106</td>\n",
       "      <td>-0.003839</td>\n",
       "    </tr>\n",
       "    <tr>\n",
       "      <th>Current Weight</th>\n",
       "      <td>0.000910</td>\n",
       "      <td>-0.002589</td>\n",
       "      <td>NaN</td>\n",
       "      <td>0.010804</td>\n",
       "      <td>-0.031690</td>\n",
       "      <td>-0.014516</td>\n",
       "      <td>0.918492</td>\n",
       "      <td>1.000000</td>\n",
       "      <td>0.018188</td>\n",
       "      <td>0.008816</td>\n",
       "      <td>-0.000587</td>\n",
       "      <td>-0.157036</td>\n",
       "      <td>0.004070</td>\n",
       "    </tr>\n",
       "    <tr>\n",
       "      <th>Taken Bronchodilators</th>\n",
       "      <td>0.001359</td>\n",
       "      <td>-0.145586</td>\n",
       "      <td>NaN</td>\n",
       "      <td>0.700865</td>\n",
       "      <td>0.074708</td>\n",
       "      <td>-0.039737</td>\n",
       "      <td>0.016334</td>\n",
       "      <td>0.018188</td>\n",
       "      <td>1.000000</td>\n",
       "      <td>-0.164843</td>\n",
       "      <td>0.001062</td>\n",
       "      <td>-0.018318</td>\n",
       "      <td>-0.017912</td>\n",
       "    </tr>\n",
       "    <tr>\n",
       "      <th>Frequency of Tiredness</th>\n",
       "      <td>-0.004154</td>\n",
       "      <td>0.137632</td>\n",
       "      <td>NaN</td>\n",
       "      <td>-0.154697</td>\n",
       "      <td>0.093376</td>\n",
       "      <td>-0.039249</td>\n",
       "      <td>0.003251</td>\n",
       "      <td>0.008816</td>\n",
       "      <td>-0.164843</td>\n",
       "      <td>1.000000</td>\n",
       "      <td>0.009009</td>\n",
       "      <td>-0.017709</td>\n",
       "      <td>0.028065</td>\n",
       "    </tr>\n",
       "    <tr>\n",
       "      <th>Dominant Hand</th>\n",
       "      <td>0.017323</td>\n",
       "      <td>0.010991</td>\n",
       "      <td>NaN</td>\n",
       "      <td>0.007606</td>\n",
       "      <td>0.008905</td>\n",
       "      <td>-0.011530</td>\n",
       "      <td>-0.004232</td>\n",
       "      <td>-0.000587</td>\n",
       "      <td>0.001062</td>\n",
       "      <td>0.009009</td>\n",
       "      <td>1.000000</td>\n",
       "      <td>-0.018081</td>\n",
       "      <td>-0.023099</td>\n",
       "    </tr>\n",
       "    <tr>\n",
       "      <th>Lung Cancer Occurrence</th>\n",
       "      <td>-0.003340</td>\n",
       "      <td>0.011036</td>\n",
       "      <td>NaN</td>\n",
       "      <td>-0.017520</td>\n",
       "      <td>0.192039</td>\n",
       "      <td>0.118414</td>\n",
       "      <td>-0.000106</td>\n",
       "      <td>-0.157036</td>\n",
       "      <td>-0.018318</td>\n",
       "      <td>-0.017709</td>\n",
       "      <td>-0.018081</td>\n",
       "      <td>1.000000</td>\n",
       "      <td>-0.024352</td>\n",
       "    </tr>\n",
       "    <tr>\n",
       "      <th>Duration of smoking (Midpoint in years)</th>\n",
       "      <td>0.006174</td>\n",
       "      <td>0.095548</td>\n",
       "      <td>NaN</td>\n",
       "      <td>-0.022295</td>\n",
       "      <td>-0.026688</td>\n",
       "      <td>0.038875</td>\n",
       "      <td>-0.003839</td>\n",
       "      <td>0.004070</td>\n",
       "      <td>-0.017912</td>\n",
       "      <td>0.028065</td>\n",
       "      <td>-0.023099</td>\n",
       "      <td>-0.024352</td>\n",
       "      <td>1.000000</td>\n",
       "    </tr>\n",
       "  </tbody>\n",
       "</table>\n",
       "</div>"
      ],
      "text/plain": [
       "                                               ID       Age  Gender  \\\n",
       "ID                                       1.000000 -0.011513     NaN   \n",
       "Age                                     -0.011513  1.000000     NaN   \n",
       "Gender                                        NaN       NaN     NaN   \n",
       "COPD History                            -0.004676 -0.139735     NaN   \n",
       "Genetic Markers                         -0.009867  0.094359     NaN   \n",
       "Air Pollution Exposure                  -0.007456  0.081254     NaN   \n",
       "Last Weight                             -0.004114 -0.004729     NaN   \n",
       "Current Weight                           0.000910 -0.002589     NaN   \n",
       "Taken Bronchodilators                    0.001359 -0.145586     NaN   \n",
       "Frequency of Tiredness                  -0.004154  0.137632     NaN   \n",
       "Dominant Hand                            0.017323  0.010991     NaN   \n",
       "Lung Cancer Occurrence                  -0.003340  0.011036     NaN   \n",
       "Duration of smoking (Midpoint in years)  0.006174  0.095548     NaN   \n",
       "\n",
       "                                         COPD History  Genetic Markers  \\\n",
       "ID                                          -0.004676        -0.009867   \n",
       "Age                                         -0.139735         0.094359   \n",
       "Gender                                            NaN              NaN   \n",
       "COPD History                                 1.000000         0.068197   \n",
       "Genetic Markers                              0.068197         1.000000   \n",
       "Air Pollution Exposure                      -0.044278        -0.178247   \n",
       "Last Weight                                  0.010840         0.001158   \n",
       "Current Weight                               0.010804        -0.031690   \n",
       "Taken Bronchodilators                        0.700865         0.074708   \n",
       "Frequency of Tiredness                      -0.154697         0.093376   \n",
       "Dominant Hand                                0.007606         0.008905   \n",
       "Lung Cancer Occurrence                      -0.017520         0.192039   \n",
       "Duration of smoking (Midpoint in years)     -0.022295        -0.026688   \n",
       "\n",
       "                                         Air Pollution Exposure  Last Weight  \\\n",
       "ID                                                    -0.007456    -0.004114   \n",
       "Age                                                    0.081254    -0.004729   \n",
       "Gender                                                      NaN          NaN   \n",
       "COPD History                                          -0.044278     0.010840   \n",
       "Genetic Markers                                       -0.178247     0.001158   \n",
       "Air Pollution Exposure                                 1.000000     0.003759   \n",
       "Last Weight                                            0.003759     1.000000   \n",
       "Current Weight                                        -0.014516     0.918492   \n",
       "Taken Bronchodilators                                 -0.039737     0.016334   \n",
       "Frequency of Tiredness                                -0.039249     0.003251   \n",
       "Dominant Hand                                         -0.011530    -0.004232   \n",
       "Lung Cancer Occurrence                                 0.118414    -0.000106   \n",
       "Duration of smoking (Midpoint in years)                0.038875    -0.003839   \n",
       "\n",
       "                                         Current Weight  \\\n",
       "ID                                             0.000910   \n",
       "Age                                           -0.002589   \n",
       "Gender                                              NaN   \n",
       "COPD History                                   0.010804   \n",
       "Genetic Markers                               -0.031690   \n",
       "Air Pollution Exposure                        -0.014516   \n",
       "Last Weight                                    0.918492   \n",
       "Current Weight                                 1.000000   \n",
       "Taken Bronchodilators                          0.018188   \n",
       "Frequency of Tiredness                         0.008816   \n",
       "Dominant Hand                                 -0.000587   \n",
       "Lung Cancer Occurrence                        -0.157036   \n",
       "Duration of smoking (Midpoint in years)        0.004070   \n",
       "\n",
       "                                         Taken Bronchodilators  \\\n",
       "ID                                                    0.001359   \n",
       "Age                                                  -0.145586   \n",
       "Gender                                                     NaN   \n",
       "COPD History                                          0.700865   \n",
       "Genetic Markers                                       0.074708   \n",
       "Air Pollution Exposure                               -0.039737   \n",
       "Last Weight                                           0.016334   \n",
       "Current Weight                                        0.018188   \n",
       "Taken Bronchodilators                                 1.000000   \n",
       "Frequency of Tiredness                               -0.164843   \n",
       "Dominant Hand                                         0.001062   \n",
       "Lung Cancer Occurrence                               -0.018318   \n",
       "Duration of smoking (Midpoint in years)              -0.017912   \n",
       "\n",
       "                                         Frequency of Tiredness  \\\n",
       "ID                                                    -0.004154   \n",
       "Age                                                    0.137632   \n",
       "Gender                                                      NaN   \n",
       "COPD History                                          -0.154697   \n",
       "Genetic Markers                                        0.093376   \n",
       "Air Pollution Exposure                                -0.039249   \n",
       "Last Weight                                            0.003251   \n",
       "Current Weight                                         0.008816   \n",
       "Taken Bronchodilators                                 -0.164843   \n",
       "Frequency of Tiredness                                 1.000000   \n",
       "Dominant Hand                                          0.009009   \n",
       "Lung Cancer Occurrence                                -0.017709   \n",
       "Duration of smoking (Midpoint in years)                0.028065   \n",
       "\n",
       "                                         Dominant Hand  \\\n",
       "ID                                            0.017323   \n",
       "Age                                           0.010991   \n",
       "Gender                                             NaN   \n",
       "COPD History                                  0.007606   \n",
       "Genetic Markers                               0.008905   \n",
       "Air Pollution Exposure                       -0.011530   \n",
       "Last Weight                                  -0.004232   \n",
       "Current Weight                               -0.000587   \n",
       "Taken Bronchodilators                         0.001062   \n",
       "Frequency of Tiredness                        0.009009   \n",
       "Dominant Hand                                 1.000000   \n",
       "Lung Cancer Occurrence                       -0.018081   \n",
       "Duration of smoking (Midpoint in years)      -0.023099   \n",
       "\n",
       "                                         Lung Cancer Occurrence  \\\n",
       "ID                                                    -0.003340   \n",
       "Age                                                    0.011036   \n",
       "Gender                                                      NaN   \n",
       "COPD History                                          -0.017520   \n",
       "Genetic Markers                                        0.192039   \n",
       "Air Pollution Exposure                                 0.118414   \n",
       "Last Weight                                           -0.000106   \n",
       "Current Weight                                        -0.157036   \n",
       "Taken Bronchodilators                                 -0.018318   \n",
       "Frequency of Tiredness                                -0.017709   \n",
       "Dominant Hand                                         -0.018081   \n",
       "Lung Cancer Occurrence                                 1.000000   \n",
       "Duration of smoking (Midpoint in years)               -0.024352   \n",
       "\n",
       "                                         Duration of smoking (Midpoint in years)  \n",
       "ID                                                                      0.006174  \n",
       "Age                                                                     0.095548  \n",
       "Gender                                                                       NaN  \n",
       "COPD History                                                           -0.022295  \n",
       "Genetic Markers                                                        -0.026688  \n",
       "Air Pollution Exposure                                                  0.038875  \n",
       "Last Weight                                                            -0.003839  \n",
       "Current Weight                                                          0.004070  \n",
       "Taken Bronchodilators                                                  -0.017912  \n",
       "Frequency of Tiredness                                                  0.028065  \n",
       "Dominant Hand                                                          -0.023099  \n",
       "Lung Cancer Occurrence                                                 -0.024352  \n",
       "Duration of smoking (Midpoint in years)                                 1.000000  "
      ]
     },
     "execution_count": 143,
     "metadata": {},
     "output_type": "execute_result"
    }
   ],
   "source": [
    "cn = df_new.corr()\n",
    "cn"
   ]
  },
  {
   "cell_type": "code",
   "execution_count": 144,
   "id": "ea1dec67-9a8b-4542-92ae-05311ab9bce2",
   "metadata": {},
   "outputs": [
    {
     "data": {
      "image/png": "[encoded data removed]",
      "text/plain": [
       "<Figure size 1800x1800 with 2 Axes>"
      ]
     },
     "metadata": {},
     "output_type": "display_data"
    }
   ],
   "source": [
    "#Correlation \n",
    "cmap=sns.diverging_palette(260,-10,s=50, l=75, n=6,\n",
    "as_cmap=True)\n",
    "plt.subplots(figsize=(18,18))\n",
    "sns.heatmap(cn,cmap=cmap,annot=True, square=True)\n",
    "plt.show()"
   ]
  },
  {
   "cell_type": "markdown",
   "id": "da7ff49e-94e3-4d0c-bdad-4050e5b89ad9",
   "metadata": {},
   "source": [
    "FEATURE ENGINEERING\n",
    "\n",
    "Feature Engineering is the process of creating new features using existing features.\n",
    "The correlation matrix shows that 'Taken Bronchodilators' and 'COPD History' are correlated more than 50%. So, lets create a new feature combining them."
   ]
  },
  {
   "cell_type": "code",
   "execution_count": 145,
   "id": "928c1fec-35e5-4b54-89b8-40054e761ebe",
   "metadata": {},
   "outputs": [
    {
     "data": {
      "text/html": [
       "<div>\n",
       "<style scoped>\n",
       "    .dataframe tbody tr th:only-of-type {\n",
       "        vertical-align: middle;\n",
       "    }\n",
       "\n",
       "    .dataframe tbody tr th {\n",
       "        vertical-align: top;\n",
       "    }\n",
       "\n",
       "    .dataframe thead th {\n",
       "        text-align: right;\n",
       "    }\n",
       "</style>\n",
       "<table border=\"1\" class=\"dataframe\">\n",
       "  <thead>\n",
       "    <tr style=\"text-align: right;\">\n",
       "      <th></th>\n",
       "      <th>ID</th>\n",
       "      <th>Age</th>\n",
       "      <th>Gender</th>\n",
       "      <th>COPD History</th>\n",
       "      <th>Genetic Markers</th>\n",
       "      <th>Air Pollution Exposure</th>\n",
       "      <th>Last Weight</th>\n",
       "      <th>Current Weight</th>\n",
       "      <th>Taken Bronchodilators</th>\n",
       "      <th>Frequency of Tiredness</th>\n",
       "      <th>Dominant Hand</th>\n",
       "      <th>Lung Cancer Occurrence</th>\n",
       "      <th>Duration of smoking (Midpoint in years)</th>\n",
       "      <th>COPDBRONCHO</th>\n",
       "    </tr>\n",
       "  </thead>\n",
       "  <tbody>\n",
       "    <tr>\n",
       "      <th>0</th>\n",
       "      <td>1.468154e+16</td>\n",
       "      <td>42</td>\n",
       "      <td>0</td>\n",
       "      <td>0</td>\n",
       "      <td>0</td>\n",
       "      <td>1.0</td>\n",
       "      <td>73</td>\n",
       "      <td>69</td>\n",
       "      <td>0</td>\n",
       "      <td>0</td>\n",
       "      <td>1</td>\n",
       "      <td>1</td>\n",
       "      <td>8.0</td>\n",
       "      <td>0</td>\n",
       "    </tr>\n",
       "    <tr>\n",
       "      <th>1</th>\n",
       "      <td>1.271684e+18</td>\n",
       "      <td>72</td>\n",
       "      <td>0</td>\n",
       "      <td>1</td>\n",
       "      <td>0</td>\n",
       "      <td>2.0</td>\n",
       "      <td>50</td>\n",
       "      <td>42</td>\n",
       "      <td>1</td>\n",
       "      <td>1</td>\n",
       "      <td>1</td>\n",
       "      <td>1</td>\n",
       "      <td>8.0</td>\n",
       "      <td>1</td>\n",
       "    </tr>\n",
       "    <tr>\n",
       "      <th>2</th>\n",
       "      <td>1.708068e+18</td>\n",
       "      <td>65</td>\n",
       "      <td>0</td>\n",
       "      <td>1</td>\n",
       "      <td>0</td>\n",
       "      <td>0.0</td>\n",
       "      <td>65</td>\n",
       "      <td>75</td>\n",
       "      <td>1</td>\n",
       "      <td>0</td>\n",
       "      <td>1</td>\n",
       "      <td>0</td>\n",
       "      <td>28.0</td>\n",
       "      <td>1</td>\n",
       "    </tr>\n",
       "    <tr>\n",
       "      <th>3</th>\n",
       "      <td>3.555829e+17</td>\n",
       "      <td>67</td>\n",
       "      <td>0</td>\n",
       "      <td>0</td>\n",
       "      <td>0</td>\n",
       "      <td>2.0</td>\n",
       "      <td>69</td>\n",
       "      <td>58</td>\n",
       "      <td>0</td>\n",
       "      <td>0</td>\n",
       "      <td>1</td>\n",
       "      <td>1</td>\n",
       "      <td>2.5</td>\n",
       "      <td>0</td>\n",
       "    </tr>\n",
       "    <tr>\n",
       "      <th>4</th>\n",
       "      <td>1.684598e+18</td>\n",
       "      <td>54</td>\n",
       "      <td>0</td>\n",
       "      <td>1</td>\n",
       "      <td>0</td>\n",
       "      <td>1.0</td>\n",
       "      <td>46</td>\n",
       "      <td>40</td>\n",
       "      <td>1</td>\n",
       "      <td>0</td>\n",
       "      <td>1</td>\n",
       "      <td>0</td>\n",
       "      <td>28.0</td>\n",
       "      <td>1</td>\n",
       "    </tr>\n",
       "    <tr>\n",
       "      <th>...</th>\n",
       "      <td>...</td>\n",
       "      <td>...</td>\n",
       "      <td>...</td>\n",
       "      <td>...</td>\n",
       "      <td>...</td>\n",
       "      <td>...</td>\n",
       "      <td>...</td>\n",
       "      <td>...</td>\n",
       "      <td>...</td>\n",
       "      <td>...</td>\n",
       "      <td>...</td>\n",
       "      <td>...</td>\n",
       "      <td>...</td>\n",
       "      <td>...</td>\n",
       "    </tr>\n",
       "    <tr>\n",
       "      <th>9993</th>\n",
       "      <td>1.990595e+17</td>\n",
       "      <td>59</td>\n",
       "      <td>0</td>\n",
       "      <td>1</td>\n",
       "      <td>1</td>\n",
       "      <td>1.0</td>\n",
       "      <td>56</td>\n",
       "      <td>46</td>\n",
       "      <td>1</td>\n",
       "      <td>0</td>\n",
       "      <td>0</td>\n",
       "      <td>1</td>\n",
       "      <td>15.5</td>\n",
       "      <td>1</td>\n",
       "    </tr>\n",
       "    <tr>\n",
       "      <th>9994</th>\n",
       "      <td>1.571559e+18</td>\n",
       "      <td>76</td>\n",
       "      <td>0</td>\n",
       "      <td>1</td>\n",
       "      <td>1</td>\n",
       "      <td>2.0</td>\n",
       "      <td>90</td>\n",
       "      <td>78</td>\n",
       "      <td>1</td>\n",
       "      <td>2</td>\n",
       "      <td>1</td>\n",
       "      <td>1</td>\n",
       "      <td>28.0</td>\n",
       "      <td>1</td>\n",
       "    </tr>\n",
       "    <tr>\n",
       "      <th>9995</th>\n",
       "      <td>1.968467e+18</td>\n",
       "      <td>57</td>\n",
       "      <td>0</td>\n",
       "      <td>1</td>\n",
       "      <td>1</td>\n",
       "      <td>2.0</td>\n",
       "      <td>63</td>\n",
       "      <td>62</td>\n",
       "      <td>1</td>\n",
       "      <td>2</td>\n",
       "      <td>1</td>\n",
       "      <td>1</td>\n",
       "      <td>15.5</td>\n",
       "      <td>1</td>\n",
       "    </tr>\n",
       "    <tr>\n",
       "      <th>9996</th>\n",
       "      <td>9.739915e+16</td>\n",
       "      <td>74</td>\n",
       "      <td>0</td>\n",
       "      <td>1</td>\n",
       "      <td>0</td>\n",
       "      <td>2.0</td>\n",
       "      <td>87</td>\n",
       "      <td>77</td>\n",
       "      <td>1</td>\n",
       "      <td>0</td>\n",
       "      <td>2</td>\n",
       "      <td>0</td>\n",
       "      <td>2.5</td>\n",
       "      <td>1</td>\n",
       "    </tr>\n",
       "    <tr>\n",
       "      <th>9997</th>\n",
       "      <td>2.105403e+17</td>\n",
       "      <td>61</td>\n",
       "      <td>0</td>\n",
       "      <td>1</td>\n",
       "      <td>0</td>\n",
       "      <td>2.0</td>\n",
       "      <td>95</td>\n",
       "      <td>100</td>\n",
       "      <td>1</td>\n",
       "      <td>0</td>\n",
       "      <td>1</td>\n",
       "      <td>0</td>\n",
       "      <td>2.5</td>\n",
       "      <td>1</td>\n",
       "    </tr>\n",
       "  </tbody>\n",
       "</table>\n",
       "<p>9752 rows × 14 columns</p>\n",
       "</div>"
      ],
      "text/plain": [
       "                ID  Age  Gender  COPD History  Genetic Markers  \\\n",
       "0     1.468154e+16   42       0             0                0   \n",
       "1     1.271684e+18   72       0             1                0   \n",
       "2     1.708068e+18   65       0             1                0   \n",
       "3     3.555829e+17   67       0             0                0   \n",
       "4     1.684598e+18   54       0             1                0   \n",
       "...            ...  ...     ...           ...              ...   \n",
       "9993  1.990595e+17   59       0             1                1   \n",
       "9994  1.571559e+18   76       0             1                1   \n",
       "9995  1.968467e+18   57       0             1                1   \n",
       "9996  9.739915e+16   74       0             1                0   \n",
       "9997  2.105403e+17   61       0             1                0   \n",
       "\n",
       "      Air Pollution Exposure  Last Weight  Current Weight  \\\n",
       "0                        1.0           73              69   \n",
       "1                        2.0           50              42   \n",
       "2                        0.0           65              75   \n",
       "3                        2.0           69              58   \n",
       "4                        1.0           46              40   \n",
       "...                      ...          ...             ...   \n",
       "9993                     1.0           56              46   \n",
       "9994                     2.0           90              78   \n",
       "9995                     2.0           63              62   \n",
       "9996                     2.0           87              77   \n",
       "9997                     2.0           95             100   \n",
       "\n",
       "      Taken Bronchodilators  Frequency of Tiredness  Dominant Hand  \\\n",
       "0                         0                       0              1   \n",
       "1                         1                       1              1   \n",
       "2                         1                       0              1   \n",
       "3                         0                       0              1   \n",
       "4                         1                       0              1   \n",
       "...                     ...                     ...            ...   \n",
       "9993                      1                       0              0   \n",
       "9994                      1                       2              1   \n",
       "9995                      1                       2              1   \n",
       "9996                      1                       0              2   \n",
       "9997                      1                       0              1   \n",
       "\n",
       "      Lung Cancer Occurrence Duration of smoking (Midpoint in years)  \\\n",
       "0                          1                                     8.0   \n",
       "1                          1                                     8.0   \n",
       "2                          0                                    28.0   \n",
       "3                          1                                     2.5   \n",
       "4                          0                                    28.0   \n",
       "...                      ...                                     ...   \n",
       "9993                       1                                    15.5   \n",
       "9994                       1                                    28.0   \n",
       "9995                       1                                    15.5   \n",
       "9996                       0                                     2.5   \n",
       "9997                       0                                     2.5   \n",
       "\n",
       "      COPDBRONCHO  \n",
       "0               0  \n",
       "1               1  \n",
       "2               1  \n",
       "3               0  \n",
       "4               1  \n",
       "...           ...  \n",
       "9993            1  \n",
       "9994            1  \n",
       "9995            1  \n",
       "9996            1  \n",
       "9997            1  \n",
       "\n",
       "[9752 rows x 14 columns]"
      ]
     },
     "execution_count": 145,
     "metadata": {},
     "output_type": "execute_result"
    }
   ],
   "source": [
    "df_new['COPDBRONCHO']=df_new['Taken Bronchodilators']*df_new['COPD History']\n",
    "df_new"
   ]
  },
  {
   "cell_type": "code",
   "execution_count": 146,
   "id": "888577d7-8c30-4888-abfd-ec0622686ba4",
   "metadata": {},
   "outputs": [],
   "source": [
    "#Splitting independent and dependent variables\n",
    "X = df_new.drop(columns=[\"Lung Cancer Occurrence\"], axis = 1)\n",
    "y = df_new['Lung Cancer Occurrence']"
   ]
  },
  {
   "cell_type": "code",
   "execution_count": 147,
   "id": "91c32fd8-5020-4587-90be-9fbf6ebd96ff",
   "metadata": {},
   "outputs": [
    {
     "data": {
      "text/html": [
       "<div>\n",
       "<style scoped>\n",
       "    .dataframe tbody tr th:only-of-type {\n",
       "        vertical-align: middle;\n",
       "    }\n",
       "\n",
       "    .dataframe tbody tr th {\n",
       "        vertical-align: top;\n",
       "    }\n",
       "\n",
       "    .dataframe thead th {\n",
       "        text-align: right;\n",
       "    }\n",
       "</style>\n",
       "<table border=\"1\" class=\"dataframe\">\n",
       "  <thead>\n",
       "    <tr style=\"text-align: right;\">\n",
       "      <th></th>\n",
       "      <th>ID</th>\n",
       "      <th>Age</th>\n",
       "      <th>Gender</th>\n",
       "      <th>COPD History</th>\n",
       "      <th>Genetic Markers</th>\n",
       "      <th>Air Pollution Exposure</th>\n",
       "      <th>Last Weight</th>\n",
       "      <th>Current Weight</th>\n",
       "      <th>Taken Bronchodilators</th>\n",
       "      <th>Frequency of Tiredness</th>\n",
       "      <th>Dominant Hand</th>\n",
       "      <th>Duration of smoking (Midpoint in years)</th>\n",
       "      <th>COPDBRONCHO</th>\n",
       "    </tr>\n",
       "  </thead>\n",
       "  <tbody>\n",
       "    <tr>\n",
       "      <th>0</th>\n",
       "      <td>1.468154e+16</td>\n",
       "      <td>42</td>\n",
       "      <td>0</td>\n",
       "      <td>0</td>\n",
       "      <td>0</td>\n",
       "      <td>1.0</td>\n",
       "      <td>73</td>\n",
       "      <td>69</td>\n",
       "      <td>0</td>\n",
       "      <td>0</td>\n",
       "      <td>1</td>\n",
       "      <td>8.0</td>\n",
       "      <td>0</td>\n",
       "    </tr>\n",
       "    <tr>\n",
       "      <th>1</th>\n",
       "      <td>1.271684e+18</td>\n",
       "      <td>72</td>\n",
       "      <td>0</td>\n",
       "      <td>1</td>\n",
       "      <td>0</td>\n",
       "      <td>2.0</td>\n",
       "      <td>50</td>\n",
       "      <td>42</td>\n",
       "      <td>1</td>\n",
       "      <td>1</td>\n",
       "      <td>1</td>\n",
       "      <td>8.0</td>\n",
       "      <td>1</td>\n",
       "    </tr>\n",
       "    <tr>\n",
       "      <th>2</th>\n",
       "      <td>1.708068e+18</td>\n",
       "      <td>65</td>\n",
       "      <td>0</td>\n",
       "      <td>1</td>\n",
       "      <td>0</td>\n",
       "      <td>0.0</td>\n",
       "      <td>65</td>\n",
       "      <td>75</td>\n",
       "      <td>1</td>\n",
       "      <td>0</td>\n",
       "      <td>1</td>\n",
       "      <td>28.0</td>\n",
       "      <td>1</td>\n",
       "    </tr>\n",
       "    <tr>\n",
       "      <th>3</th>\n",
       "      <td>3.555829e+17</td>\n",
       "      <td>67</td>\n",
       "      <td>0</td>\n",
       "      <td>0</td>\n",
       "      <td>0</td>\n",
       "      <td>2.0</td>\n",
       "      <td>69</td>\n",
       "      <td>58</td>\n",
       "      <td>0</td>\n",
       "      <td>0</td>\n",
       "      <td>1</td>\n",
       "      <td>2.5</td>\n",
       "      <td>0</td>\n",
       "    </tr>\n",
       "    <tr>\n",
       "      <th>4</th>\n",
       "      <td>1.684598e+18</td>\n",
       "      <td>54</td>\n",
       "      <td>0</td>\n",
       "      <td>1</td>\n",
       "      <td>0</td>\n",
       "      <td>1.0</td>\n",
       "      <td>46</td>\n",
       "      <td>40</td>\n",
       "      <td>1</td>\n",
       "      <td>0</td>\n",
       "      <td>1</td>\n",
       "      <td>28.0</td>\n",
       "      <td>1</td>\n",
       "    </tr>\n",
       "    <tr>\n",
       "      <th>...</th>\n",
       "      <td>...</td>\n",
       "      <td>...</td>\n",
       "      <td>...</td>\n",
       "      <td>...</td>\n",
       "      <td>...</td>\n",
       "      <td>...</td>\n",
       "      <td>...</td>\n",
       "      <td>...</td>\n",
       "      <td>...</td>\n",
       "      <td>...</td>\n",
       "      <td>...</td>\n",
       "      <td>...</td>\n",
       "      <td>...</td>\n",
       "    </tr>\n",
       "    <tr>\n",
       "      <th>9993</th>\n",
       "      <td>1.990595e+17</td>\n",
       "      <td>59</td>\n",
       "      <td>0</td>\n",
       "      <td>1</td>\n",
       "      <td>1</td>\n",
       "      <td>1.0</td>\n",
       "      <td>56</td>\n",
       "      <td>46</td>\n",
       "      <td>1</td>\n",
       "      <td>0</td>\n",
       "      <td>0</td>\n",
       "      <td>15.5</td>\n",
       "      <td>1</td>\n",
       "    </tr>\n",
       "    <tr>\n",
       "      <th>9994</th>\n",
       "      <td>1.571559e+18</td>\n",
       "      <td>76</td>\n",
       "      <td>0</td>\n",
       "      <td>1</td>\n",
       "      <td>1</td>\n",
       "      <td>2.0</td>\n",
       "      <td>90</td>\n",
       "      <td>78</td>\n",
       "      <td>1</td>\n",
       "      <td>2</td>\n",
       "      <td>1</td>\n",
       "      <td>28.0</td>\n",
       "      <td>1</td>\n",
       "    </tr>\n",
       "    <tr>\n",
       "      <th>9995</th>\n",
       "      <td>1.968467e+18</td>\n",
       "      <td>57</td>\n",
       "      <td>0</td>\n",
       "      <td>1</td>\n",
       "      <td>1</td>\n",
       "      <td>2.0</td>\n",
       "      <td>63</td>\n",
       "      <td>62</td>\n",
       "      <td>1</td>\n",
       "      <td>2</td>\n",
       "      <td>1</td>\n",
       "      <td>15.5</td>\n",
       "      <td>1</td>\n",
       "    </tr>\n",
       "    <tr>\n",
       "      <th>9996</th>\n",
       "      <td>9.739915e+16</td>\n",
       "      <td>74</td>\n",
       "      <td>0</td>\n",
       "      <td>1</td>\n",
       "      <td>0</td>\n",
       "      <td>2.0</td>\n",
       "      <td>87</td>\n",
       "      <td>77</td>\n",
       "      <td>1</td>\n",
       "      <td>0</td>\n",
       "      <td>2</td>\n",
       "      <td>2.5</td>\n",
       "      <td>1</td>\n",
       "    </tr>\n",
       "    <tr>\n",
       "      <th>9997</th>\n",
       "      <td>2.105403e+17</td>\n",
       "      <td>61</td>\n",
       "      <td>0</td>\n",
       "      <td>1</td>\n",
       "      <td>0</td>\n",
       "      <td>2.0</td>\n",
       "      <td>95</td>\n",
       "      <td>100</td>\n",
       "      <td>1</td>\n",
       "      <td>0</td>\n",
       "      <td>1</td>\n",
       "      <td>2.5</td>\n",
       "      <td>1</td>\n",
       "    </tr>\n",
       "  </tbody>\n",
       "</table>\n",
       "<p>9752 rows × 13 columns</p>\n",
       "</div>"
      ],
      "text/plain": [
       "                ID  Age  Gender  COPD History  Genetic Markers  \\\n",
       "0     1.468154e+16   42       0             0                0   \n",
       "1     1.271684e+18   72       0             1                0   \n",
       "2     1.708068e+18   65       0             1                0   \n",
       "3     3.555829e+17   67       0             0                0   \n",
       "4     1.684598e+18   54       0             1                0   \n",
       "...            ...  ...     ...           ...              ...   \n",
       "9993  1.990595e+17   59       0             1                1   \n",
       "9994  1.571559e+18   76       0             1                1   \n",
       "9995  1.968467e+18   57       0             1                1   \n",
       "9996  9.739915e+16   74       0             1                0   \n",
       "9997  2.105403e+17   61       0             1                0   \n",
       "\n",
       "      Air Pollution Exposure  Last Weight  Current Weight  \\\n",
       "0                        1.0           73              69   \n",
       "1                        2.0           50              42   \n",
       "2                        0.0           65              75   \n",
       "3                        2.0           69              58   \n",
       "4                        1.0           46              40   \n",
       "...                      ...          ...             ...   \n",
       "9993                     1.0           56              46   \n",
       "9994                     2.0           90              78   \n",
       "9995                     2.0           63              62   \n",
       "9996                     2.0           87              77   \n",
       "9997                     2.0           95             100   \n",
       "\n",
       "      Taken Bronchodilators  Frequency of Tiredness  Dominant Hand  \\\n",
       "0                         0                       0              1   \n",
       "1                         1                       1              1   \n",
       "2                         1                       0              1   \n",
       "3                         0                       0              1   \n",
       "4                         1                       0              1   \n",
       "...                     ...                     ...            ...   \n",
       "9993                      1                       0              0   \n",
       "9994                      1                       2              1   \n",
       "9995                      1                       2              1   \n",
       "9996                      1                       0              2   \n",
       "9997                      1                       0              1   \n",
       "\n",
       "     Duration of smoking (Midpoint in years)  COPDBRONCHO  \n",
       "0                                        8.0            0  \n",
       "1                                        8.0            1  \n",
       "2                                       28.0            1  \n",
       "3                                        2.5            0  \n",
       "4                                       28.0            1  \n",
       "...                                      ...          ...  \n",
       "9993                                    15.5            1  \n",
       "9994                                    28.0            1  \n",
       "9995                                    15.5            1  \n",
       "9996                                     2.5            1  \n",
       "9997                                     2.5            1  \n",
       "\n",
       "[9752 rows x 13 columns]"
      ]
     },
     "execution_count": 147,
     "metadata": {},
     "output_type": "execute_result"
    }
   ],
   "source": [
    "X"
   ]
  },
  {
   "cell_type": "code",
   "execution_count": 148,
   "id": "dd5f5c48-89d1-4aeb-991a-bfce4f36ef88",
   "metadata": {},
   "outputs": [
    {
     "data": {
      "text/plain": [
       "ID                                         0\n",
       "Age                                        0\n",
       "Gender                                     0\n",
       "COPD History                               0\n",
       "Genetic Markers                            0\n",
       "Air Pollution Exposure                     0\n",
       "Last Weight                                0\n",
       "Current Weight                             0\n",
       "Taken Bronchodilators                      0\n",
       "Frequency of Tiredness                     0\n",
       "Dominant Hand                              0\n",
       "Duration of smoking (Midpoint in years)    0\n",
       "COPDBRONCHO                                0\n",
       "dtype: int64"
      ]
     },
     "execution_count": 148,
     "metadata": {},
     "output_type": "execute_result"
    }
   ],
   "source": [
    "X.isnull().sum()\n"
   ]
  },
  {
   "cell_type": "code",
   "execution_count": 149,
   "id": "c26f7df9-dfa3-4f63-b29d-7e566e62d658",
   "metadata": {},
   "outputs": [
    {
     "name": "stdout",
     "output_type": "stream",
     "text": [
      "Lung Cancer Occurrence\n",
      "1    5316\n",
      "0    4436\n",
      "Name: count, dtype: int64\n"
     ]
    }
   ],
   "source": [
    "print(pd.Series(y).value_counts())\n"
   ]
  },
  {
   "cell_type": "markdown",
   "id": "ae6a2f28-3081-45ff-8b95-e31027fc6812",
   "metadata": {},
   "source": [
    "Target Distribution Imbalance Handling"
   ]
  },
  {
   "cell_type": "code",
   "execution_count": 150,
   "id": "1811441c-a243-4b8b-a140-2fbff4d77e9b",
   "metadata": {},
   "outputs": [],
   "source": [
    "from imblearn.over_sampling import SMOTE\n",
    "\n",
    "smote = SMOTE(random_state=42)\n",
    "X_resampled, y_resampled = smote.fit_resample(X, y)"
   ]
  },
  {
   "cell_type": "markdown",
   "id": "f60982a9-0c79-470f-9cec-1f592eb125c2",
   "metadata": {},
   "source": [
    "LOGISTIC REGRESSION"
   ]
  },
  {
   "cell_type": "code",
   "execution_count": 151,
   "id": "15b0bf7a-f4d7-43ad-9fe7-9a71f3a8ad86",
   "metadata": {},
   "outputs": [],
   "source": [
    "#Splitting data for training and testing\n",
    "from sklearn.model_selection import train_test_split\n",
    "X_train, X_test, y_train, y_test= train_test_split(X, y, test_size= 0.25, random_state=0)"
   ]
  },
  {
   "cell_type": "code",
   "execution_count": 152,
   "id": "e8824d0c-4984-4bd6-b3d9-3ae57d3eb692",
   "metadata": {},
   "outputs": [
    {
     "data": {
      "text/html": [
       "<style>#sk-container-id-17 {color: black;}#sk-container-id-17 pre{padding: 0;}#sk-container-id-17 div.sk-toggleable {background-color: white;}#sk-container-id-17 label.sk-toggleable__label {cursor: pointer;display: block;width: 100%;margin-bottom: 0;padding: 0.3em;box-sizing: border-box;text-align: center;}#sk-container-id-17 label.sk-toggleable__label-arrow:before {content: \"▸\";float: left;margin-right: 0.25em;color: #696969;}#sk-container-id-17 label.sk-toggleable__label-arrow:hover:before {color: black;}#sk-container-id-17 div.sk-estimator:hover label.sk-toggleable__label-arrow:before {color: black;}#sk-container-id-17 div.sk-toggleable__content {max-height: 0;max-width: 0;overflow: hidden;text-align: left;background-color: #f0f8ff;}#sk-container-id-17 div.sk-toggleable__content pre {margin: 0.2em;color: black;border-radius: 0.25em;background-color: #f0f8ff;}#sk-container-id-17 input.sk-toggleable__control:checked~div.sk-toggleable__content {max-height: 200px;max-width: 100%;overflow: auto;}#sk-container-id-17 input.sk-toggleable__control:checked~label.sk-toggleable__label-arrow:before {content: \"▾\";}#sk-container-id-17 div.sk-estimator input.sk-toggleable__control:checked~label.sk-toggleable__label {background-color: #d4ebff;}#sk-container-id-17 div.sk-label input.sk-toggleable__control:checked~label.sk-toggleable__label {background-color: #d4ebff;}#sk-container-id-17 input.sk-hidden--visually {border: 0;clip: rect(1px 1px 1px 1px);clip: rect(1px, 1px, 1px, 1px);height: 1px;margin: -1px;overflow: hidden;padding: 0;position: absolute;width: 1px;}#sk-container-id-17 div.sk-estimator {font-family: monospace;background-color: #f0f8ff;border: 1px dotted black;border-radius: 0.25em;box-sizing: border-box;margin-bottom: 0.5em;}#sk-container-id-17 div.sk-estimator:hover {background-color: #d4ebff;}#sk-container-id-17 div.sk-parallel-item::after {content: \"\";width: 100%;border-bottom: 1px solid gray;flex-grow: 1;}#sk-container-id-17 div.sk-label:hover label.sk-toggleable__label {background-color: #d4ebff;}#sk-container-id-17 div.sk-serial::before {content: \"\";position: absolute;border-left: 1px solid gray;box-sizing: border-box;top: 0;bottom: 0;left: 50%;z-index: 0;}#sk-container-id-17 div.sk-serial {display: flex;flex-direction: column;align-items: center;background-color: white;padding-right: 0.2em;padding-left: 0.2em;position: relative;}#sk-container-id-17 div.sk-item {position: relative;z-index: 1;}#sk-container-id-17 div.sk-parallel {display: flex;align-items: stretch;justify-content: center;background-color: white;position: relative;}#sk-container-id-17 div.sk-item::before, #sk-container-id-17 div.sk-parallel-item::before {content: \"\";position: absolute;border-left: 1px solid gray;box-sizing: border-box;top: 0;bottom: 0;left: 50%;z-index: -1;}#sk-container-id-17 div.sk-parallel-item {display: flex;flex-direction: column;z-index: 1;position: relative;background-color: white;}#sk-container-id-17 div.sk-parallel-item:first-child::after {align-self: flex-end;width: 50%;}#sk-container-id-17 div.sk-parallel-item:last-child::after {align-self: flex-start;width: 50%;}#sk-container-id-17 div.sk-parallel-item:only-child::after {width: 0;}#sk-container-id-17 div.sk-dashed-wrapped {border: 1px dashed gray;margin: 0 0.4em 0.5em 0.4em;box-sizing: border-box;padding-bottom: 0.4em;background-color: white;}#sk-container-id-17 div.sk-label label {font-family: monospace;font-weight: bold;display: inline-block;line-height: 1.2em;}#sk-container-id-17 div.sk-label-container {text-align: center;}#sk-container-id-17 div.sk-container {/* jupyter's `normalize.less` sets `[hidden] { display: none; }` but bootstrap.min.css set `[hidden] { display: none !important; }` so we also need the `!important` here to be able to override the default hidden behavior on the sphinx rendered scikit-learn.org. See: https://github.com/scikit-learn/scikit-learn/issues/21755 */display: inline-block !important;position: relative;}#sk-container-id-17 div.sk-text-repr-fallback {display: none;}</style><div id=\"sk-container-id-17\" class=\"sk-top-container\"><div class=\"sk-text-repr-fallback\"><pre>LogisticRegression(random_state=0)</pre><b>In a Jupyter environment, please rerun this cell to show the HTML representation or trust the notebook. <br />On GitHub, the HTML representation is unable to render, please try loading this page with nbviewer.org.</b></div><div class=\"sk-container\" hidden><div class=\"sk-item\"><div class=\"sk-estimator sk-toggleable\"><input class=\"sk-toggleable__control sk-hidden--visually\" id=\"sk-estimator-id-17\" type=\"checkbox\" checked><label for=\"sk-estimator-id-17\" class=\"sk-toggleable__label sk-toggleable__label-arrow\">LogisticRegression</label><div class=\"sk-toggleable__content\"><pre>LogisticRegression(random_state=0)</pre></div></div></div></div></div>"
      ],
      "text/plain": [
       "LogisticRegression(random_state=0)"
      ]
     },
     "execution_count": 152,
     "metadata": {},
     "output_type": "execute_result"
    }
   ],
   "source": [
    "#Fitting training data to the model\n",
    "from sklearn.linear_model import LogisticRegression\n",
    "lr_model=LogisticRegression(random_state=0)\n",
    "lr_model.fit(X_train, y_train)"
   ]
  },
  {
   "cell_type": "code",
   "execution_count": 153,
   "id": "af315a3e-b6fb-4e7c-adb9-99ab25ecdcfb",
   "metadata": {},
   "outputs": [
    {
     "data": {
      "text/plain": [
       "array([1, 1, 1, ..., 1, 1, 1])"
      ]
     },
     "execution_count": 153,
     "metadata": {},
     "output_type": "execute_result"
    }
   ],
   "source": [
    "#Predicting result using testing data\n",
    "y_lr_pred= lr_model.predict(X_test)\n",
    "y_lr_pred"
   ]
  },
  {
   "cell_type": "code",
   "execution_count": 154,
   "id": "a59bd5eb-6746-4e33-bf7d-521e0d03f959",
   "metadata": {},
   "outputs": [
    {
     "name": "stdout",
     "output_type": "stream",
     "text": [
      "              precision    recall  f1-score   support\n",
      "\n",
      "           0       0.00      0.00      0.00      1132\n",
      "           1       0.54      1.00      0.70      1306\n",
      "\n",
      "    accuracy                           0.54      2438\n",
      "   macro avg       0.27      0.50      0.35      2438\n",
      "weighted avg       0.29      0.54      0.37      2438\n",
      "\n"
     ]
    },
    {
     "name": "stderr",
     "output_type": "stream",
     "text": [
      "/Users/ryan/miniconda3/lib/python3.8/site-packages/sklearn/metrics/_classification.py:1471: UndefinedMetricWarning: Precision and F-score are ill-defined and being set to 0.0 in labels with no predicted samples. Use `zero_division` parameter to control this behavior.\n",
      "  _warn_prf(average, modifier, msg_start, len(result))\n",
      "/Users/ryan/miniconda3/lib/python3.8/site-packages/sklearn/metrics/_classification.py:1471: UndefinedMetricWarning: Precision and F-score are ill-defined and being set to 0.0 in labels with no predicted samples. Use `zero_division` parameter to control this behavior.\n",
      "  _warn_prf(average, modifier, msg_start, len(result))\n",
      "/Users/ryan/miniconda3/lib/python3.8/site-packages/sklearn/metrics/_classification.py:1471: UndefinedMetricWarning: Precision and F-score are ill-defined and being set to 0.0 in labels with no predicted samples. Use `zero_division` parameter to control this behavior.\n",
      "  _warn_prf(average, modifier, msg_start, len(result))\n"
     ]
    }
   ],
   "source": [
    "#Model accuracy\n",
    "from sklearn.metrics import classification_report, accuracy_score, f1_score\n",
    "lr_cr=classification_report(y_test, y_lr_pred)\n",
    "print(lr_cr)"
   ]
  },
  {
   "cell_type": "markdown",
   "id": "a98ee081-2fc2-4c2d-93b7-8403cd70dad4",
   "metadata": {},
   "source": [
    "DECISION TREE"
   ]
  },
  {
   "cell_type": "code",
   "execution_count": 155,
   "id": "119f9059-6c57-4437-997a-a8075f9d58f2",
   "metadata": {},
   "outputs": [
    {
     "data": {
      "text/html": [
       "<style>#sk-container-id-18 {color: black;}#sk-container-id-18 pre{padding: 0;}#sk-container-id-18 div.sk-toggleable {background-color: white;}#sk-container-id-18 label.sk-toggleable__label {cursor: pointer;display: block;width: 100%;margin-bottom: 0;padding: 0.3em;box-sizing: border-box;text-align: center;}#sk-container-id-18 label.sk-toggleable__label-arrow:before {content: \"▸\";float: left;margin-right: 0.25em;color: #696969;}#sk-container-id-18 label.sk-toggleable__label-arrow:hover:before {color: black;}#sk-container-id-18 div.sk-estimator:hover label.sk-toggleable__label-arrow:before {color: black;}#sk-container-id-18 div.sk-toggleable__content {max-height: 0;max-width: 0;overflow: hidden;text-align: left;background-color: #f0f8ff;}#sk-container-id-18 div.sk-toggleable__content pre {margin: 0.2em;color: black;border-radius: 0.25em;background-color: #f0f8ff;}#sk-container-id-18 input.sk-toggleable__control:checked~div.sk-toggleable__content {max-height: 200px;max-width: 100%;overflow: auto;}#sk-container-id-18 input.sk-toggleable__control:checked~label.sk-toggleable__label-arrow:before {content: \"▾\";}#sk-container-id-18 div.sk-estimator input.sk-toggleable__control:checked~label.sk-toggleable__label {background-color: #d4ebff;}#sk-container-id-18 div.sk-label input.sk-toggleable__control:checked~label.sk-toggleable__label {background-color: #d4ebff;}#sk-container-id-18 input.sk-hidden--visually {border: 0;clip: rect(1px 1px 1px 1px);clip: rect(1px, 1px, 1px, 1px);height: 1px;margin: -1px;overflow: hidden;padding: 0;position: absolute;width: 1px;}#sk-container-id-18 div.sk-estimator {font-family: monospace;background-color: #f0f8ff;border: 1px dotted black;border-radius: 0.25em;box-sizing: border-box;margin-bottom: 0.5em;}#sk-container-id-18 div.sk-estimator:hover {background-color: #d4ebff;}#sk-container-id-18 div.sk-parallel-item::after {content: \"\";width: 100%;border-bottom: 1px solid gray;flex-grow: 1;}#sk-container-id-18 div.sk-label:hover label.sk-toggleable__label {background-color: #d4ebff;}#sk-container-id-18 div.sk-serial::before {content: \"\";position: absolute;border-left: 1px solid gray;box-sizing: border-box;top: 0;bottom: 0;left: 50%;z-index: 0;}#sk-container-id-18 div.sk-serial {display: flex;flex-direction: column;align-items: center;background-color: white;padding-right: 0.2em;padding-left: 0.2em;position: relative;}#sk-container-id-18 div.sk-item {position: relative;z-index: 1;}#sk-container-id-18 div.sk-parallel {display: flex;align-items: stretch;justify-content: center;background-color: white;position: relative;}#sk-container-id-18 div.sk-item::before, #sk-container-id-18 div.sk-parallel-item::before {content: \"\";position: absolute;border-left: 1px solid gray;box-sizing: border-box;top: 0;bottom: 0;left: 50%;z-index: -1;}#sk-container-id-18 div.sk-parallel-item {display: flex;flex-direction: column;z-index: 1;position: relative;background-color: white;}#sk-container-id-18 div.sk-parallel-item:first-child::after {align-self: flex-end;width: 50%;}#sk-container-id-18 div.sk-parallel-item:last-child::after {align-self: flex-start;width: 50%;}#sk-container-id-18 div.sk-parallel-item:only-child::after {width: 0;}#sk-container-id-18 div.sk-dashed-wrapped {border: 1px dashed gray;margin: 0 0.4em 0.5em 0.4em;box-sizing: border-box;padding-bottom: 0.4em;background-color: white;}#sk-container-id-18 div.sk-label label {font-family: monospace;font-weight: bold;display: inline-block;line-height: 1.2em;}#sk-container-id-18 div.sk-label-container {text-align: center;}#sk-container-id-18 div.sk-container {/* jupyter's `normalize.less` sets `[hidden] { display: none; }` but bootstrap.min.css set `[hidden] { display: none !important; }` so we also need the `!important` here to be able to override the default hidden behavior on the sphinx rendered scikit-learn.org. See: https://github.com/scikit-learn/scikit-learn/issues/21755 */display: inline-block !important;position: relative;}#sk-container-id-18 div.sk-text-repr-fallback {display: none;}</style><div id=\"sk-container-id-18\" class=\"sk-top-container\"><div class=\"sk-text-repr-fallback\"><pre>DecisionTreeClassifier(criterion=&#x27;entropy&#x27;, random_state=0)</pre><b>In a Jupyter environment, please rerun this cell to show the HTML representation or trust the notebook. <br />On GitHub, the HTML representation is unable to render, please try loading this page with nbviewer.org.</b></div><div class=\"sk-container\" hidden><div class=\"sk-item\"><div class=\"sk-estimator sk-toggleable\"><input class=\"sk-toggleable__control sk-hidden--visually\" id=\"sk-estimator-id-18\" type=\"checkbox\" checked><label for=\"sk-estimator-id-18\" class=\"sk-toggleable__label sk-toggleable__label-arrow\">DecisionTreeClassifier</label><div class=\"sk-toggleable__content\"><pre>DecisionTreeClassifier(criterion=&#x27;entropy&#x27;, random_state=0)</pre></div></div></div></div></div>"
      ],
      "text/plain": [
       "DecisionTreeClassifier(criterion='entropy', random_state=0)"
      ]
     },
     "execution_count": 155,
     "metadata": {},
     "output_type": "execute_result"
    }
   ],
   "source": [
    "#Fitting training data to the model\n",
    "from sklearn.tree import DecisionTreeClassifier\n",
    "dt_model= DecisionTreeClassifier(criterion='entropy', random_state=0)  \n",
    "dt_model.fit(X_train, y_train)"
   ]
  },
  {
   "cell_type": "code",
   "execution_count": 156,
   "id": "dd9f38f4-6c62-4be1-98f1-4f327e089aa7",
   "metadata": {},
   "outputs": [
    {
     "data": {
      "text/plain": [
       "array([0, 1, 0, ..., 1, 0, 0])"
      ]
     },
     "execution_count": 156,
     "metadata": {},
     "output_type": "execute_result"
    }
   ],
   "source": [
    "#Predicting result using testing data\n",
    "y_dt_pred= dt_model.predict(X_test)\n",
    "y_dt_pred"
   ]
  },
  {
   "cell_type": "code",
   "execution_count": 157,
   "id": "bb53e03a-9085-4b8a-b973-abb751506af2",
   "metadata": {},
   "outputs": [
    {
     "name": "stdout",
     "output_type": "stream",
     "text": [
      "              precision    recall  f1-score   support\n",
      "\n",
      "           0       0.59      0.59      0.59      1132\n",
      "           1       0.64      0.64      0.64      1306\n",
      "\n",
      "    accuracy                           0.62      2438\n",
      "   macro avg       0.62      0.62      0.62      2438\n",
      "weighted avg       0.62      0.62      0.62      2438\n",
      "\n"
     ]
    }
   ],
   "source": [
    "#Model accuracy\n",
    "dt_cr=classification_report(y_test, y_dt_pred)\n",
    "print(dt_cr)\n"
   ]
  },
  {
   "cell_type": "markdown",
   "id": "ba8aa8ba-0ad2-443e-8c34-19fb0d221c4b",
   "metadata": {},
   "source": [
    "K NEAREST NEIGHBOUR"
   ]
  },
  {
   "cell_type": "code",
   "execution_count": 158,
   "id": "03085c9d-2172-40ad-8152-488436a74b22",
   "metadata": {},
   "outputs": [
    {
     "data": {
      "text/html": [
       "<style>#sk-container-id-19 {color: black;}#sk-container-id-19 pre{padding: 0;}#sk-container-id-19 div.sk-toggleable {background-color: white;}#sk-container-id-19 label.sk-toggleable__label {cursor: pointer;display: block;width: 100%;margin-bottom: 0;padding: 0.3em;box-sizing: border-box;text-align: center;}#sk-container-id-19 label.sk-toggleable__label-arrow:before {content: \"▸\";float: left;margin-right: 0.25em;color: #696969;}#sk-container-id-19 label.sk-toggleable__label-arrow:hover:before {color: black;}#sk-container-id-19 div.sk-estimator:hover label.sk-toggleable__label-arrow:before {color: black;}#sk-container-id-19 div.sk-toggleable__content {max-height: 0;max-width: 0;overflow: hidden;text-align: left;background-color: #f0f8ff;}#sk-container-id-19 div.sk-toggleable__content pre {margin: 0.2em;color: black;border-radius: 0.25em;background-color: #f0f8ff;}#sk-container-id-19 input.sk-toggleable__control:checked~div.sk-toggleable__content {max-height: 200px;max-width: 100%;overflow: auto;}#sk-container-id-19 input.sk-toggleable__control:checked~label.sk-toggleable__label-arrow:before {content: \"▾\";}#sk-container-id-19 div.sk-estimator input.sk-toggleable__control:checked~label.sk-toggleable__label {background-color: #d4ebff;}#sk-container-id-19 div.sk-label input.sk-toggleable__control:checked~label.sk-toggleable__label {background-color: #d4ebff;}#sk-container-id-19 input.sk-hidden--visually {border: 0;clip: rect(1px 1px 1px 1px);clip: rect(1px, 1px, 1px, 1px);height: 1px;margin: -1px;overflow: hidden;padding: 0;position: absolute;width: 1px;}#sk-container-id-19 div.sk-estimator {font-family: monospace;background-color: #f0f8ff;border: 1px dotted black;border-radius: 0.25em;box-sizing: border-box;margin-bottom: 0.5em;}#sk-container-id-19 div.sk-estimator:hover {background-color: #d4ebff;}#sk-container-id-19 div.sk-parallel-item::after {content: \"\";width: 100%;border-bottom: 1px solid gray;flex-grow: 1;}#sk-container-id-19 div.sk-label:hover label.sk-toggleable__label {background-color: #d4ebff;}#sk-container-id-19 div.sk-serial::before {content: \"\";position: absolute;border-left: 1px solid gray;box-sizing: border-box;top: 0;bottom: 0;left: 50%;z-index: 0;}#sk-container-id-19 div.sk-serial {display: flex;flex-direction: column;align-items: center;background-color: white;padding-right: 0.2em;padding-left: 0.2em;position: relative;}#sk-container-id-19 div.sk-item {position: relative;z-index: 1;}#sk-container-id-19 div.sk-parallel {display: flex;align-items: stretch;justify-content: center;background-color: white;position: relative;}#sk-container-id-19 div.sk-item::before, #sk-container-id-19 div.sk-parallel-item::before {content: \"\";position: absolute;border-left: 1px solid gray;box-sizing: border-box;top: 0;bottom: 0;left: 50%;z-index: -1;}#sk-container-id-19 div.sk-parallel-item {display: flex;flex-direction: column;z-index: 1;position: relative;background-color: white;}#sk-container-id-19 div.sk-parallel-item:first-child::after {align-self: flex-end;width: 50%;}#sk-container-id-19 div.sk-parallel-item:last-child::after {align-self: flex-start;width: 50%;}#sk-container-id-19 div.sk-parallel-item:only-child::after {width: 0;}#sk-container-id-19 div.sk-dashed-wrapped {border: 1px dashed gray;margin: 0 0.4em 0.5em 0.4em;box-sizing: border-box;padding-bottom: 0.4em;background-color: white;}#sk-container-id-19 div.sk-label label {font-family: monospace;font-weight: bold;display: inline-block;line-height: 1.2em;}#sk-container-id-19 div.sk-label-container {text-align: center;}#sk-container-id-19 div.sk-container {/* jupyter's `normalize.less` sets `[hidden] { display: none; }` but bootstrap.min.css set `[hidden] { display: none !important; }` so we also need the `!important` here to be able to override the default hidden behavior on the sphinx rendered scikit-learn.org. See: https://github.com/scikit-learn/scikit-learn/issues/21755 */display: inline-block !important;position: relative;}#sk-container-id-19 div.sk-text-repr-fallback {display: none;}</style><div id=\"sk-container-id-19\" class=\"sk-top-container\"><div class=\"sk-text-repr-fallback\"><pre>KNeighborsClassifier()</pre><b>In a Jupyter environment, please rerun this cell to show the HTML representation or trust the notebook. <br />On GitHub, the HTML representation is unable to render, please try loading this page with nbviewer.org.</b></div><div class=\"sk-container\" hidden><div class=\"sk-item\"><div class=\"sk-estimator sk-toggleable\"><input class=\"sk-toggleable__control sk-hidden--visually\" id=\"sk-estimator-id-19\" type=\"checkbox\" checked><label for=\"sk-estimator-id-19\" class=\"sk-toggleable__label sk-toggleable__label-arrow\">KNeighborsClassifier</label><div class=\"sk-toggleable__content\"><pre>KNeighborsClassifier()</pre></div></div></div></div></div>"
      ],
      "text/plain": [
       "KNeighborsClassifier()"
      ]
     },
     "execution_count": 158,
     "metadata": {},
     "output_type": "execute_result"
    }
   ],
   "source": [
    "#Fitting K-NN classifier to the training set  \n",
    "from sklearn.neighbors import KNeighborsClassifier  \n",
    "knn_model= KNeighborsClassifier(n_neighbors=5, metric='minkowski', p=2 )  \n",
    "knn_model.fit(X_train, y_train)"
   ]
  },
  {
   "cell_type": "code",
   "execution_count": 159,
   "id": "c7c5cbde-e810-4f9b-b7e1-550f30f8ddc6",
   "metadata": {},
   "outputs": [
    {
     "data": {
      "text/plain": [
       "array([0, 0, 1, ..., 1, 0, 0])"
      ]
     },
     "execution_count": 159,
     "metadata": {},
     "output_type": "execute_result"
    }
   ],
   "source": [
    "#Predicting result using testing data\n",
    "y_knn_pred= knn_model.predict(X_test)\n",
    "y_knn_pred"
   ]
  },
  {
   "cell_type": "code",
   "execution_count": 160,
   "id": "67cd27d6-4d2b-4013-ae3b-bd043464ffcf",
   "metadata": {},
   "outputs": [
    {
     "name": "stdout",
     "output_type": "stream",
     "text": [
      "              precision    recall  f1-score   support\n",
      "\n",
      "           0       0.46      0.43      0.44      1132\n",
      "           1       0.53      0.56      0.54      1306\n",
      "\n",
      "    accuracy                           0.50      2438\n",
      "   macro avg       0.49      0.49      0.49      2438\n",
      "weighted avg       0.49      0.50      0.50      2438\n",
      "\n"
     ]
    }
   ],
   "source": [
    "#Model accuracy\n",
    "knn_cr=classification_report(y_test, y_knn_pred)\n",
    "print(knn_cr)"
   ]
  },
  {
   "cell_type": "markdown",
   "id": "53ef5788-4c04-4ea7-91e9-741348361401",
   "metadata": {},
   "source": [
    "Gaussian Naive Bayes"
   ]
  },
  {
   "cell_type": "code",
   "execution_count": 161,
   "id": "ace85550-5bbd-4f31-98da-8279fd776eb7",
   "metadata": {},
   "outputs": [
    {
     "data": {
      "text/html": [
       "<style>#sk-container-id-20 {color: black;}#sk-container-id-20 pre{padding: 0;}#sk-container-id-20 div.sk-toggleable {background-color: white;}#sk-container-id-20 label.sk-toggleable__label {cursor: pointer;display: block;width: 100%;margin-bottom: 0;padding: 0.3em;box-sizing: border-box;text-align: center;}#sk-container-id-20 label.sk-toggleable__label-arrow:before {content: \"▸\";float: left;margin-right: 0.25em;color: #696969;}#sk-container-id-20 label.sk-toggleable__label-arrow:hover:before {color: black;}#sk-container-id-20 div.sk-estimator:hover label.sk-toggleable__label-arrow:before {color: black;}#sk-container-id-20 div.sk-toggleable__content {max-height: 0;max-width: 0;overflow: hidden;text-align: left;background-color: #f0f8ff;}#sk-container-id-20 div.sk-toggleable__content pre {margin: 0.2em;color: black;border-radius: 0.25em;background-color: #f0f8ff;}#sk-container-id-20 input.sk-toggleable__control:checked~div.sk-toggleable__content {max-height: 200px;max-width: 100%;overflow: auto;}#sk-container-id-20 input.sk-toggleable__control:checked~label.sk-toggleable__label-arrow:before {content: \"▾\";}#sk-container-id-20 div.sk-estimator input.sk-toggleable__control:checked~label.sk-toggleable__label {background-color: #d4ebff;}#sk-container-id-20 div.sk-label input.sk-toggleable__control:checked~label.sk-toggleable__label {background-color: #d4ebff;}#sk-container-id-20 input.sk-hidden--visually {border: 0;clip: rect(1px 1px 1px 1px);clip: rect(1px, 1px, 1px, 1px);height: 1px;margin: -1px;overflow: hidden;padding: 0;position: absolute;width: 1px;}#sk-container-id-20 div.sk-estimator {font-family: monospace;background-color: #f0f8ff;border: 1px dotted black;border-radius: 0.25em;box-sizing: border-box;margin-bottom: 0.5em;}#sk-container-id-20 div.sk-estimator:hover {background-color: #d4ebff;}#sk-container-id-20 div.sk-parallel-item::after {content: \"\";width: 100%;border-bottom: 1px solid gray;flex-grow: 1;}#sk-container-id-20 div.sk-label:hover label.sk-toggleable__label {background-color: #d4ebff;}#sk-container-id-20 div.sk-serial::before {content: \"\";position: absolute;border-left: 1px solid gray;box-sizing: border-box;top: 0;bottom: 0;left: 50%;z-index: 0;}#sk-container-id-20 div.sk-serial {display: flex;flex-direction: column;align-items: center;background-color: white;padding-right: 0.2em;padding-left: 0.2em;position: relative;}#sk-container-id-20 div.sk-item {position: relative;z-index: 1;}#sk-container-id-20 div.sk-parallel {display: flex;align-items: stretch;justify-content: center;background-color: white;position: relative;}#sk-container-id-20 div.sk-item::before, #sk-container-id-20 div.sk-parallel-item::before {content: \"\";position: absolute;border-left: 1px solid gray;box-sizing: border-box;top: 0;bottom: 0;left: 50%;z-index: -1;}#sk-container-id-20 div.sk-parallel-item {display: flex;flex-direction: column;z-index: 1;position: relative;background-color: white;}#sk-container-id-20 div.sk-parallel-item:first-child::after {align-self: flex-end;width: 50%;}#sk-container-id-20 div.sk-parallel-item:last-child::after {align-self: flex-start;width: 50%;}#sk-container-id-20 div.sk-parallel-item:only-child::after {width: 0;}#sk-container-id-20 div.sk-dashed-wrapped {border: 1px dashed gray;margin: 0 0.4em 0.5em 0.4em;box-sizing: border-box;padding-bottom: 0.4em;background-color: white;}#sk-container-id-20 div.sk-label label {font-family: monospace;font-weight: bold;display: inline-block;line-height: 1.2em;}#sk-container-id-20 div.sk-label-container {text-align: center;}#sk-container-id-20 div.sk-container {/* jupyter's `normalize.less` sets `[hidden] { display: none; }` but bootstrap.min.css set `[hidden] { display: none !important; }` so we also need the `!important` here to be able to override the default hidden behavior on the sphinx rendered scikit-learn.org. See: https://github.com/scikit-learn/scikit-learn/issues/21755 */display: inline-block !important;position: relative;}#sk-container-id-20 div.sk-text-repr-fallback {display: none;}</style><div id=\"sk-container-id-20\" class=\"sk-top-container\"><div class=\"sk-text-repr-fallback\"><pre>GaussianNB()</pre><b>In a Jupyter environment, please rerun this cell to show the HTML representation or trust the notebook. <br />On GitHub, the HTML representation is unable to render, please try loading this page with nbviewer.org.</b></div><div class=\"sk-container\" hidden><div class=\"sk-item\"><div class=\"sk-estimator sk-toggleable\"><input class=\"sk-toggleable__control sk-hidden--visually\" id=\"sk-estimator-id-20\" type=\"checkbox\" checked><label for=\"sk-estimator-id-20\" class=\"sk-toggleable__label sk-toggleable__label-arrow\">GaussianNB</label><div class=\"sk-toggleable__content\"><pre>GaussianNB()</pre></div></div></div></div></div>"
      ],
      "text/plain": [
       "GaussianNB()"
      ]
     },
     "execution_count": 161,
     "metadata": {},
     "output_type": "execute_result"
    }
   ],
   "source": [
    "#Fitting Gaussian Naive Bayes classifier to the training set  \n",
    "from sklearn.naive_bayes import GaussianNB\n",
    "gnb_model = GaussianNB()\n",
    "gnb_model.fit(X_train, y_train)"
   ]
  },
  {
   "cell_type": "code",
   "execution_count": 162,
   "id": "d2da0851-bef4-4e11-b188-93d2e1c1cb21",
   "metadata": {},
   "outputs": [
    {
     "data": {
      "text/plain": [
       "array([1, 1, 1, ..., 1, 1, 1])"
      ]
     },
     "execution_count": 162,
     "metadata": {},
     "output_type": "execute_result"
    }
   ],
   "source": [
    "#Predicting result using testing data\n",
    "y_gnb_pred= gnb_model.predict(X_test)\n",
    "y_gnb_pred"
   ]
  },
  {
   "cell_type": "code",
   "execution_count": 163,
   "id": "d321213d-af96-4f02-bf44-1a1fdf48fe20",
   "metadata": {},
   "outputs": [
    {
     "name": "stdout",
     "output_type": "stream",
     "text": [
      "              precision    recall  f1-score   support\n",
      "\n",
      "           0       0.00      0.00      0.00      1132\n",
      "           1       0.54      1.00      0.70      1306\n",
      "\n",
      "    accuracy                           0.54      2438\n",
      "   macro avg       0.27      0.50      0.35      2438\n",
      "weighted avg       0.29      0.54      0.37      2438\n",
      "\n"
     ]
    },
    {
     "name": "stderr",
     "output_type": "stream",
     "text": [
      "/Users/ryan/miniconda3/lib/python3.8/site-packages/sklearn/metrics/_classification.py:1471: UndefinedMetricWarning: Precision and F-score are ill-defined and being set to 0.0 in labels with no predicted samples. Use `zero_division` parameter to control this behavior.\n",
      "  _warn_prf(average, modifier, msg_start, len(result))\n",
      "/Users/ryan/miniconda3/lib/python3.8/site-packages/sklearn/metrics/_classification.py:1471: UndefinedMetricWarning: Precision and F-score are ill-defined and being set to 0.0 in labels with no predicted samples. Use `zero_division` parameter to control this behavior.\n",
      "  _warn_prf(average, modifier, msg_start, len(result))\n",
      "/Users/ryan/miniconda3/lib/python3.8/site-packages/sklearn/metrics/_classification.py:1471: UndefinedMetricWarning: Precision and F-score are ill-defined and being set to 0.0 in labels with no predicted samples. Use `zero_division` parameter to control this behavior.\n",
      "  _warn_prf(average, modifier, msg_start, len(result))\n"
     ]
    }
   ],
   "source": [
    "#Model accuracy\n",
    "gnb_cr=classification_report(y_test, y_gnb_pred)\n",
    "print(gnb_cr)\n"
   ]
  },
  {
   "cell_type": "markdown",
   "id": "14729d00-5bc5-4480-8888-be572b773228",
   "metadata": {},
   "source": [
    "Support Vector Classifier\n"
   ]
  },
  {
   "cell_type": "code",
   "execution_count": 164,
   "id": "7a95cbe3-dc19-43f7-a9e2-62c9ab623e37",
   "metadata": {},
   "outputs": [
    {
     "data": {
      "text/html": [
       "<style>#sk-container-id-21 {color: black;}#sk-container-id-21 pre{padding: 0;}#sk-container-id-21 div.sk-toggleable {background-color: white;}#sk-container-id-21 label.sk-toggleable__label {cursor: pointer;display: block;width: 100%;margin-bottom: 0;padding: 0.3em;box-sizing: border-box;text-align: center;}#sk-container-id-21 label.sk-toggleable__label-arrow:before {content: \"▸\";float: left;margin-right: 0.25em;color: #696969;}#sk-container-id-21 label.sk-toggleable__label-arrow:hover:before {color: black;}#sk-container-id-21 div.sk-estimator:hover label.sk-toggleable__label-arrow:before {color: black;}#sk-container-id-21 div.sk-toggleable__content {max-height: 0;max-width: 0;overflow: hidden;text-align: left;background-color: #f0f8ff;}#sk-container-id-21 div.sk-toggleable__content pre {margin: 0.2em;color: black;border-radius: 0.25em;background-color: #f0f8ff;}#sk-container-id-21 input.sk-toggleable__control:checked~div.sk-toggleable__content {max-height: 200px;max-width: 100%;overflow: auto;}#sk-container-id-21 input.sk-toggleable__control:checked~label.sk-toggleable__label-arrow:before {content: \"▾\";}#sk-container-id-21 div.sk-estimator input.sk-toggleable__control:checked~label.sk-toggleable__label {background-color: #d4ebff;}#sk-container-id-21 div.sk-label input.sk-toggleable__control:checked~label.sk-toggleable__label {background-color: #d4ebff;}#sk-container-id-21 input.sk-hidden--visually {border: 0;clip: rect(1px 1px 1px 1px);clip: rect(1px, 1px, 1px, 1px);height: 1px;margin: -1px;overflow: hidden;padding: 0;position: absolute;width: 1px;}#sk-container-id-21 div.sk-estimator {font-family: monospace;background-color: #f0f8ff;border: 1px dotted black;border-radius: 0.25em;box-sizing: border-box;margin-bottom: 0.5em;}#sk-container-id-21 div.sk-estimator:hover {background-color: #d4ebff;}#sk-container-id-21 div.sk-parallel-item::after {content: \"\";width: 100%;border-bottom: 1px solid gray;flex-grow: 1;}#sk-container-id-21 div.sk-label:hover label.sk-toggleable__label {background-color: #d4ebff;}#sk-container-id-21 div.sk-serial::before {content: \"\";position: absolute;border-left: 1px solid gray;box-sizing: border-box;top: 0;bottom: 0;left: 50%;z-index: 0;}#sk-container-id-21 div.sk-serial {display: flex;flex-direction: column;align-items: center;background-color: white;padding-right: 0.2em;padding-left: 0.2em;position: relative;}#sk-container-id-21 div.sk-item {position: relative;z-index: 1;}#sk-container-id-21 div.sk-parallel {display: flex;align-items: stretch;justify-content: center;background-color: white;position: relative;}#sk-container-id-21 div.sk-item::before, #sk-container-id-21 div.sk-parallel-item::before {content: \"\";position: absolute;border-left: 1px solid gray;box-sizing: border-box;top: 0;bottom: 0;left: 50%;z-index: -1;}#sk-container-id-21 div.sk-parallel-item {display: flex;flex-direction: column;z-index: 1;position: relative;background-color: white;}#sk-container-id-21 div.sk-parallel-item:first-child::after {align-self: flex-end;width: 50%;}#sk-container-id-21 div.sk-parallel-item:last-child::after {align-self: flex-start;width: 50%;}#sk-container-id-21 div.sk-parallel-item:only-child::after {width: 0;}#sk-container-id-21 div.sk-dashed-wrapped {border: 1px dashed gray;margin: 0 0.4em 0.5em 0.4em;box-sizing: border-box;padding-bottom: 0.4em;background-color: white;}#sk-container-id-21 div.sk-label label {font-family: monospace;font-weight: bold;display: inline-block;line-height: 1.2em;}#sk-container-id-21 div.sk-label-container {text-align: center;}#sk-container-id-21 div.sk-container {/* jupyter's `normalize.less` sets `[hidden] { display: none; }` but bootstrap.min.css set `[hidden] { display: none !important; }` so we also need the `!important` here to be able to override the default hidden behavior on the sphinx rendered scikit-learn.org. See: https://github.com/scikit-learn/scikit-learn/issues/21755 */display: inline-block !important;position: relative;}#sk-container-id-21 div.sk-text-repr-fallback {display: none;}</style><div id=\"sk-container-id-21\" class=\"sk-top-container\"><div class=\"sk-text-repr-fallback\"><pre>SVC()</pre><b>In a Jupyter environment, please rerun this cell to show the HTML representation or trust the notebook. <br />On GitHub, the HTML representation is unable to render, please try loading this page with nbviewer.org.</b></div><div class=\"sk-container\" hidden><div class=\"sk-item\"><div class=\"sk-estimator sk-toggleable\"><input class=\"sk-toggleable__control sk-hidden--visually\" id=\"sk-estimator-id-21\" type=\"checkbox\" checked><label for=\"sk-estimator-id-21\" class=\"sk-toggleable__label sk-toggleable__label-arrow\">SVC</label><div class=\"sk-toggleable__content\"><pre>SVC()</pre></div></div></div></div></div>"
      ],
      "text/plain": [
       "SVC()"
      ]
     },
     "execution_count": 164,
     "metadata": {},
     "output_type": "execute_result"
    }
   ],
   "source": [
    "#Fitting SVC to the training set  \n",
    "from sklearn.svm import SVC\n",
    "svc_model = SVC()\n",
    "svc_model.fit(X_train, y_train)"
   ]
  },
  {
   "cell_type": "code",
   "execution_count": 165,
   "id": "f5dfda72-1f82-4bd6-aa80-384f16853bbf",
   "metadata": {},
   "outputs": [
    {
     "data": {
      "text/plain": [
       "array([1, 1, 1, ..., 1, 1, 1])"
      ]
     },
     "execution_count": 165,
     "metadata": {},
     "output_type": "execute_result"
    }
   ],
   "source": [
    "#Predicting result using testing data\n",
    "y_svc_pred= svc_model.predict(X_test)\n",
    "y_svc_pred"
   ]
  },
  {
   "cell_type": "code",
   "execution_count": 166,
   "id": "3fecb264-e9cb-43fa-bcb7-903090e9d592",
   "metadata": {},
   "outputs": [
    {
     "name": "stdout",
     "output_type": "stream",
     "text": [
      "              precision    recall  f1-score   support\n",
      "\n",
      "           0       0.00      0.00      0.00      1132\n",
      "           1       0.54      1.00      0.70      1306\n",
      "\n",
      "    accuracy                           0.54      2438\n",
      "   macro avg       0.27      0.50      0.35      2438\n",
      "weighted avg       0.29      0.54      0.37      2438\n",
      "\n"
     ]
    },
    {
     "name": "stderr",
     "output_type": "stream",
     "text": [
      "/Users/ryan/miniconda3/lib/python3.8/site-packages/sklearn/metrics/_classification.py:1471: UndefinedMetricWarning: Precision and F-score are ill-defined and being set to 0.0 in labels with no predicted samples. Use `zero_division` parameter to control this behavior.\n",
      "  _warn_prf(average, modifier, msg_start, len(result))\n",
      "/Users/ryan/miniconda3/lib/python3.8/site-packages/sklearn/metrics/_classification.py:1471: UndefinedMetricWarning: Precision and F-score are ill-defined and being set to 0.0 in labels with no predicted samples. Use `zero_division` parameter to control this behavior.\n",
      "  _warn_prf(average, modifier, msg_start, len(result))\n",
      "/Users/ryan/miniconda3/lib/python3.8/site-packages/sklearn/metrics/_classification.py:1471: UndefinedMetricWarning: Precision and F-score are ill-defined and being set to 0.0 in labels with no predicted samples. Use `zero_division` parameter to control this behavior.\n",
      "  _warn_prf(average, modifier, msg_start, len(result))\n"
     ]
    }
   ],
   "source": [
    "#Model accuracy\n",
    "svc_cr=classification_report(y_test, y_svc_pred)\n",
    "print(svc_cr)\n"
   ]
  },
  {
   "cell_type": "markdown",
   "id": "4c131ef9-398a-469d-84bd-6281e1d5a8e3",
   "metadata": {},
   "source": [
    "RANDOM FOREST"
   ]
  },
  {
   "cell_type": "code",
   "execution_count": 167,
   "id": "a5cdbff6-e759-4350-9227-fc2d69121ecd",
   "metadata": {},
   "outputs": [
    {
     "data": {
      "text/html": [
       "<style>#sk-container-id-22 {color: black;}#sk-container-id-22 pre{padding: 0;}#sk-container-id-22 div.sk-toggleable {background-color: white;}#sk-container-id-22 label.sk-toggleable__label {cursor: pointer;display: block;width: 100%;margin-bottom: 0;padding: 0.3em;box-sizing: border-box;text-align: center;}#sk-container-id-22 label.sk-toggleable__label-arrow:before {content: \"▸\";float: left;margin-right: 0.25em;color: #696969;}#sk-container-id-22 label.sk-toggleable__label-arrow:hover:before {color: black;}#sk-container-id-22 div.sk-estimator:hover label.sk-toggleable__label-arrow:before {color: black;}#sk-container-id-22 div.sk-toggleable__content {max-height: 0;max-width: 0;overflow: hidden;text-align: left;background-color: #f0f8ff;}#sk-container-id-22 div.sk-toggleable__content pre {margin: 0.2em;color: black;border-radius: 0.25em;background-color: #f0f8ff;}#sk-container-id-22 input.sk-toggleable__control:checked~div.sk-toggleable__content {max-height: 200px;max-width: 100%;overflow: auto;}#sk-container-id-22 input.sk-toggleable__control:checked~label.sk-toggleable__label-arrow:before {content: \"▾\";}#sk-container-id-22 div.sk-estimator input.sk-toggleable__control:checked~label.sk-toggleable__label {background-color: #d4ebff;}#sk-container-id-22 div.sk-label input.sk-toggleable__control:checked~label.sk-toggleable__label {background-color: #d4ebff;}#sk-container-id-22 input.sk-hidden--visually {border: 0;clip: rect(1px 1px 1px 1px);clip: rect(1px, 1px, 1px, 1px);height: 1px;margin: -1px;overflow: hidden;padding: 0;position: absolute;width: 1px;}#sk-container-id-22 div.sk-estimator {font-family: monospace;background-color: #f0f8ff;border: 1px dotted black;border-radius: 0.25em;box-sizing: border-box;margin-bottom: 0.5em;}#sk-container-id-22 div.sk-estimator:hover {background-color: #d4ebff;}#sk-container-id-22 div.sk-parallel-item::after {content: \"\";width: 100%;border-bottom: 1px solid gray;flex-grow: 1;}#sk-container-id-22 div.sk-label:hover label.sk-toggleable__label {background-color: #d4ebff;}#sk-container-id-22 div.sk-serial::before {content: \"\";position: absolute;border-left: 1px solid gray;box-sizing: border-box;top: 0;bottom: 0;left: 50%;z-index: 0;}#sk-container-id-22 div.sk-serial {display: flex;flex-direction: column;align-items: center;background-color: white;padding-right: 0.2em;padding-left: 0.2em;position: relative;}#sk-container-id-22 div.sk-item {position: relative;z-index: 1;}#sk-container-id-22 div.sk-parallel {display: flex;align-items: stretch;justify-content: center;background-color: white;position: relative;}#sk-container-id-22 div.sk-item::before, #sk-container-id-22 div.sk-parallel-item::before {content: \"\";position: absolute;border-left: 1px solid gray;box-sizing: border-box;top: 0;bottom: 0;left: 50%;z-index: -1;}#sk-container-id-22 div.sk-parallel-item {display: flex;flex-direction: column;z-index: 1;position: relative;background-color: white;}#sk-container-id-22 div.sk-parallel-item:first-child::after {align-self: flex-end;width: 50%;}#sk-container-id-22 div.sk-parallel-item:last-child::after {align-self: flex-start;width: 50%;}#sk-container-id-22 div.sk-parallel-item:only-child::after {width: 0;}#sk-container-id-22 div.sk-dashed-wrapped {border: 1px dashed gray;margin: 0 0.4em 0.5em 0.4em;box-sizing: border-box;padding-bottom: 0.4em;background-color: white;}#sk-container-id-22 div.sk-label label {font-family: monospace;font-weight: bold;display: inline-block;line-height: 1.2em;}#sk-container-id-22 div.sk-label-container {text-align: center;}#sk-container-id-22 div.sk-container {/* jupyter's `normalize.less` sets `[hidden] { display: none; }` but bootstrap.min.css set `[hidden] { display: none !important; }` so we also need the `!important` here to be able to override the default hidden behavior on the sphinx rendered scikit-learn.org. See: https://github.com/scikit-learn/scikit-learn/issues/21755 */display: inline-block !important;position: relative;}#sk-container-id-22 div.sk-text-repr-fallback {display: none;}</style><div id=\"sk-container-id-22\" class=\"sk-top-container\"><div class=\"sk-text-repr-fallback\"><pre>RandomForestClassifier()</pre><b>In a Jupyter environment, please rerun this cell to show the HTML representation or trust the notebook. <br />On GitHub, the HTML representation is unable to render, please try loading this page with nbviewer.org.</b></div><div class=\"sk-container\" hidden><div class=\"sk-item\"><div class=\"sk-estimator sk-toggleable\"><input class=\"sk-toggleable__control sk-hidden--visually\" id=\"sk-estimator-id-22\" type=\"checkbox\" checked><label for=\"sk-estimator-id-22\" class=\"sk-toggleable__label sk-toggleable__label-arrow\">RandomForestClassifier</label><div class=\"sk-toggleable__content\"><pre>RandomForestClassifier()</pre></div></div></div></div></div>"
      ],
      "text/plain": [
       "RandomForestClassifier()"
      ]
     },
     "execution_count": 167,
     "metadata": {},
     "output_type": "execute_result"
    }
   ],
   "source": [
    "#Training\n",
    "from sklearn.ensemble import RandomForestClassifier\n",
    "rf_model = RandomForestClassifier()\n",
    "rf_model.fit(X_train, y_train)"
   ]
  },
  {
   "cell_type": "code",
   "execution_count": 168,
   "id": "4a09f886-46c2-4554-a1b1-976c32b3ccaa",
   "metadata": {},
   "outputs": [
    {
     "data": {
      "text/plain": [
       "array([0, 1, 1, ..., 0, 1, 1])"
      ]
     },
     "execution_count": 168,
     "metadata": {},
     "output_type": "execute_result"
    }
   ],
   "source": [
    "#Predicting result using testing data\n",
    "y_rf_pred= rf_model.predict(X_test)\n",
    "y_rf_pred"
   ]
  },
  {
   "cell_type": "code",
   "execution_count": 169,
   "id": "83d751fa-6bdf-4a8a-9acd-ff7a4829a5ed",
   "metadata": {},
   "outputs": [
    {
     "name": "stdout",
     "output_type": "stream",
     "text": [
      "              precision    recall  f1-score   support\n",
      "\n",
      "           0       0.67      0.60      0.63      1132\n",
      "           1       0.68      0.74      0.71      1306\n",
      "\n",
      "    accuracy                           0.68      2438\n",
      "   macro avg       0.67      0.67      0.67      2438\n",
      "weighted avg       0.68      0.68      0.67      2438\n",
      "\n"
     ]
    }
   ],
   "source": [
    "#Model accuracy\n",
    "rf_cr=classification_report(y_test, y_rf_pred)\n",
    "print(rf_cr)"
   ]
  },
  {
   "cell_type": "markdown",
   "id": "cd822bc1-feda-45e9-9a1b-b2c4f29be076",
   "metadata": {},
   "source": [
    "Multi-layer Perceptron classifier"
   ]
  },
  {
   "cell_type": "code",
   "execution_count": 170,
   "id": "c3801766-cde7-4b15-858f-bcfebfb58875",
   "metadata": {},
   "outputs": [
    {
     "data": {
      "text/html": [
       "<style>#sk-container-id-23 {color: black;}#sk-container-id-23 pre{padding: 0;}#sk-container-id-23 div.sk-toggleable {background-color: white;}#sk-container-id-23 label.sk-toggleable__label {cursor: pointer;display: block;width: 100%;margin-bottom: 0;padding: 0.3em;box-sizing: border-box;text-align: center;}#sk-container-id-23 label.sk-toggleable__label-arrow:before {content: \"▸\";float: left;margin-right: 0.25em;color: #696969;}#sk-container-id-23 label.sk-toggleable__label-arrow:hover:before {color: black;}#sk-container-id-23 div.sk-estimator:hover label.sk-toggleable__label-arrow:before {color: black;}#sk-container-id-23 div.sk-toggleable__content {max-height: 0;max-width: 0;overflow: hidden;text-align: left;background-color: #f0f8ff;}#sk-container-id-23 div.sk-toggleable__content pre {margin: 0.2em;color: black;border-radius: 0.25em;background-color: #f0f8ff;}#sk-container-id-23 input.sk-toggleable__control:checked~div.sk-toggleable__content {max-height: 200px;max-width: 100%;overflow: auto;}#sk-container-id-23 input.sk-toggleable__control:checked~label.sk-toggleable__label-arrow:before {content: \"▾\";}#sk-container-id-23 div.sk-estimator input.sk-toggleable__control:checked~label.sk-toggleable__label {background-color: #d4ebff;}#sk-container-id-23 div.sk-label input.sk-toggleable__control:checked~label.sk-toggleable__label {background-color: #d4ebff;}#sk-container-id-23 input.sk-hidden--visually {border: 0;clip: rect(1px 1px 1px 1px);clip: rect(1px, 1px, 1px, 1px);height: 1px;margin: -1px;overflow: hidden;padding: 0;position: absolute;width: 1px;}#sk-container-id-23 div.sk-estimator {font-family: monospace;background-color: #f0f8ff;border: 1px dotted black;border-radius: 0.25em;box-sizing: border-box;margin-bottom: 0.5em;}#sk-container-id-23 div.sk-estimator:hover {background-color: #d4ebff;}#sk-container-id-23 div.sk-parallel-item::after {content: \"\";width: 100%;border-bottom: 1px solid gray;flex-grow: 1;}#sk-container-id-23 div.sk-label:hover label.sk-toggleable__label {background-color: #d4ebff;}#sk-container-id-23 div.sk-serial::before {content: \"\";position: absolute;border-left: 1px solid gray;box-sizing: border-box;top: 0;bottom: 0;left: 50%;z-index: 0;}#sk-container-id-23 div.sk-serial {display: flex;flex-direction: column;align-items: center;background-color: white;padding-right: 0.2em;padding-left: 0.2em;position: relative;}#sk-container-id-23 div.sk-item {position: relative;z-index: 1;}#sk-container-id-23 div.sk-parallel {display: flex;align-items: stretch;justify-content: center;background-color: white;position: relative;}#sk-container-id-23 div.sk-item::before, #sk-container-id-23 div.sk-parallel-item::before {content: \"\";position: absolute;border-left: 1px solid gray;box-sizing: border-box;top: 0;bottom: 0;left: 50%;z-index: -1;}#sk-container-id-23 div.sk-parallel-item {display: flex;flex-direction: column;z-index: 1;position: relative;background-color: white;}#sk-container-id-23 div.sk-parallel-item:first-child::after {align-self: flex-end;width: 50%;}#sk-container-id-23 div.sk-parallel-item:last-child::after {align-self: flex-start;width: 50%;}#sk-container-id-23 div.sk-parallel-item:only-child::after {width: 0;}#sk-container-id-23 div.sk-dashed-wrapped {border: 1px dashed gray;margin: 0 0.4em 0.5em 0.4em;box-sizing: border-box;padding-bottom: 0.4em;background-color: white;}#sk-container-id-23 div.sk-label label {font-family: monospace;font-weight: bold;display: inline-block;line-height: 1.2em;}#sk-container-id-23 div.sk-label-container {text-align: center;}#sk-container-id-23 div.sk-container {/* jupyter's `normalize.less` sets `[hidden] { display: none; }` but bootstrap.min.css set `[hidden] { display: none !important; }` so we also need the `!important` here to be able to override the default hidden behavior on the sphinx rendered scikit-learn.org. See: https://github.com/scikit-learn/scikit-learn/issues/21755 */display: inline-block !important;position: relative;}#sk-container-id-23 div.sk-text-repr-fallback {display: none;}</style><div id=\"sk-container-id-23\" class=\"sk-top-container\"><div class=\"sk-text-repr-fallback\"><pre>MLPClassifier()</pre><b>In a Jupyter environment, please rerun this cell to show the HTML representation or trust the notebook. <br />On GitHub, the HTML representation is unable to render, please try loading this page with nbviewer.org.</b></div><div class=\"sk-container\" hidden><div class=\"sk-item\"><div class=\"sk-estimator sk-toggleable\"><input class=\"sk-toggleable__control sk-hidden--visually\" id=\"sk-estimator-id-23\" type=\"checkbox\" checked><label for=\"sk-estimator-id-23\" class=\"sk-toggleable__label sk-toggleable__label-arrow\">MLPClassifier</label><div class=\"sk-toggleable__content\"><pre>MLPClassifier()</pre></div></div></div></div></div>"
      ],
      "text/plain": [
       "MLPClassifier()"
      ]
     },
     "execution_count": 170,
     "metadata": {},
     "output_type": "execute_result"
    }
   ],
   "source": [
    "#Training a neural network model\n",
    "from sklearn.neural_network import MLPClassifier\n",
    "mlp_model = MLPClassifier()\n",
    "mlp_model.fit(X_train, y_train)"
   ]
  },
  {
   "cell_type": "code",
   "execution_count": 171,
   "id": "418b14bb-ad8f-4734-b0c0-a0888bcc6af1",
   "metadata": {},
   "outputs": [
    {
     "data": {
      "text/plain": [
       "array([0, 0, 0, ..., 0, 0, 0])"
      ]
     },
     "execution_count": 171,
     "metadata": {},
     "output_type": "execute_result"
    }
   ],
   "source": [
    "#Predicting result using testing data\n",
    "y_mlp_pred= mlp_model.predict(X_test)\n",
    "y_mlp_pred"
   ]
  },
  {
   "cell_type": "code",
   "execution_count": 172,
   "id": "d514ce10-dd9a-4360-acde-90d8e8c1856f",
   "metadata": {},
   "outputs": [
    {
     "name": "stdout",
     "output_type": "stream",
     "text": [
      "              precision    recall  f1-score   support\n",
      "\n",
      "           0       0.46      1.00      0.63      1132\n",
      "           1       0.00      0.00      0.00      1306\n",
      "\n",
      "    accuracy                           0.46      2438\n",
      "   macro avg       0.23      0.50      0.32      2438\n",
      "weighted avg       0.22      0.46      0.29      2438\n",
      "\n"
     ]
    },
    {
     "name": "stderr",
     "output_type": "stream",
     "text": [
      "/Users/ryan/miniconda3/lib/python3.8/site-packages/sklearn/metrics/_classification.py:1471: UndefinedMetricWarning: Precision and F-score are ill-defined and being set to 0.0 in labels with no predicted samples. Use `zero_division` parameter to control this behavior.\n",
      "  _warn_prf(average, modifier, msg_start, len(result))\n",
      "/Users/ryan/miniconda3/lib/python3.8/site-packages/sklearn/metrics/_classification.py:1471: UndefinedMetricWarning: Precision and F-score are ill-defined and being set to 0.0 in labels with no predicted samples. Use `zero_division` parameter to control this behavior.\n",
      "  _warn_prf(average, modifier, msg_start, len(result))\n",
      "/Users/ryan/miniconda3/lib/python3.8/site-packages/sklearn/metrics/_classification.py:1471: UndefinedMetricWarning: Precision and F-score are ill-defined and being set to 0.0 in labels with no predicted samples. Use `zero_division` parameter to control this behavior.\n",
      "  _warn_prf(average, modifier, msg_start, len(result))\n"
     ]
    }
   ],
   "source": [
    "#Model accuracy\n",
    "mlp_cr=classification_report(y_test, y_mlp_pred)\n",
    "print(mlp_cr)\n"
   ]
  },
  {
   "cell_type": "markdown",
   "id": "5bcc437f-0a21-4b1f-9d0b-8d2f8c1250c1",
   "metadata": {},
   "source": [
    "Gradient Boosting"
   ]
  },
  {
   "cell_type": "code",
   "execution_count": 173,
   "id": "f58733eb-ab85-42dd-a882-36b0a67f18a5",
   "metadata": {},
   "outputs": [
    {
     "data": {
      "text/html": [
       "<style>#sk-container-id-24 {color: black;}#sk-container-id-24 pre{padding: 0;}#sk-container-id-24 div.sk-toggleable {background-color: white;}#sk-container-id-24 label.sk-toggleable__label {cursor: pointer;display: block;width: 100%;margin-bottom: 0;padding: 0.3em;box-sizing: border-box;text-align: center;}#sk-container-id-24 label.sk-toggleable__label-arrow:before {content: \"▸\";float: left;margin-right: 0.25em;color: #696969;}#sk-container-id-24 label.sk-toggleable__label-arrow:hover:before {color: black;}#sk-container-id-24 div.sk-estimator:hover label.sk-toggleable__label-arrow:before {color: black;}#sk-container-id-24 div.sk-toggleable__content {max-height: 0;max-width: 0;overflow: hidden;text-align: left;background-color: #f0f8ff;}#sk-container-id-24 div.sk-toggleable__content pre {margin: 0.2em;color: black;border-radius: 0.25em;background-color: #f0f8ff;}#sk-container-id-24 input.sk-toggleable__control:checked~div.sk-toggleable__content {max-height: 200px;max-width: 100%;overflow: auto;}#sk-container-id-24 input.sk-toggleable__control:checked~label.sk-toggleable__label-arrow:before {content: \"▾\";}#sk-container-id-24 div.sk-estimator input.sk-toggleable__control:checked~label.sk-toggleable__label {background-color: #d4ebff;}#sk-container-id-24 div.sk-label input.sk-toggleable__control:checked~label.sk-toggleable__label {background-color: #d4ebff;}#sk-container-id-24 input.sk-hidden--visually {border: 0;clip: rect(1px 1px 1px 1px);clip: rect(1px, 1px, 1px, 1px);height: 1px;margin: -1px;overflow: hidden;padding: 0;position: absolute;width: 1px;}#sk-container-id-24 div.sk-estimator {font-family: monospace;background-color: #f0f8ff;border: 1px dotted black;border-radius: 0.25em;box-sizing: border-box;margin-bottom: 0.5em;}#sk-container-id-24 div.sk-estimator:hover {background-color: #d4ebff;}#sk-container-id-24 div.sk-parallel-item::after {content: \"\";width: 100%;border-bottom: 1px solid gray;flex-grow: 1;}#sk-container-id-24 div.sk-label:hover label.sk-toggleable__label {background-color: #d4ebff;}#sk-container-id-24 div.sk-serial::before {content: \"\";position: absolute;border-left: 1px solid gray;box-sizing: border-box;top: 0;bottom: 0;left: 50%;z-index: 0;}#sk-container-id-24 div.sk-serial {display: flex;flex-direction: column;align-items: center;background-color: white;padding-right: 0.2em;padding-left: 0.2em;position: relative;}#sk-container-id-24 div.sk-item {position: relative;z-index: 1;}#sk-container-id-24 div.sk-parallel {display: flex;align-items: stretch;justify-content: center;background-color: white;position: relative;}#sk-container-id-24 div.sk-item::before, #sk-container-id-24 div.sk-parallel-item::before {content: \"\";position: absolute;border-left: 1px solid gray;box-sizing: border-box;top: 0;bottom: 0;left: 50%;z-index: -1;}#sk-container-id-24 div.sk-parallel-item {display: flex;flex-direction: column;z-index: 1;position: relative;background-color: white;}#sk-container-id-24 div.sk-parallel-item:first-child::after {align-self: flex-end;width: 50%;}#sk-container-id-24 div.sk-parallel-item:last-child::after {align-self: flex-start;width: 50%;}#sk-container-id-24 div.sk-parallel-item:only-child::after {width: 0;}#sk-container-id-24 div.sk-dashed-wrapped {border: 1px dashed gray;margin: 0 0.4em 0.5em 0.4em;box-sizing: border-box;padding-bottom: 0.4em;background-color: white;}#sk-container-id-24 div.sk-label label {font-family: monospace;font-weight: bold;display: inline-block;line-height: 1.2em;}#sk-container-id-24 div.sk-label-container {text-align: center;}#sk-container-id-24 div.sk-container {/* jupyter's `normalize.less` sets `[hidden] { display: none; }` but bootstrap.min.css set `[hidden] { display: none !important; }` so we also need the `!important` here to be able to override the default hidden behavior on the sphinx rendered scikit-learn.org. See: https://github.com/scikit-learn/scikit-learn/issues/21755 */display: inline-block !important;position: relative;}#sk-container-id-24 div.sk-text-repr-fallback {display: none;}</style><div id=\"sk-container-id-24\" class=\"sk-top-container\"><div class=\"sk-text-repr-fallback\"><pre>GradientBoostingClassifier()</pre><b>In a Jupyter environment, please rerun this cell to show the HTML representation or trust the notebook. <br />On GitHub, the HTML representation is unable to render, please try loading this page with nbviewer.org.</b></div><div class=\"sk-container\" hidden><div class=\"sk-item\"><div class=\"sk-estimator sk-toggleable\"><input class=\"sk-toggleable__control sk-hidden--visually\" id=\"sk-estimator-id-24\" type=\"checkbox\" checked><label for=\"sk-estimator-id-24\" class=\"sk-toggleable__label sk-toggleable__label-arrow\">GradientBoostingClassifier</label><div class=\"sk-toggleable__content\"><pre>GradientBoostingClassifier()</pre></div></div></div></div></div>"
      ],
      "text/plain": [
       "GradientBoostingClassifier()"
      ]
     },
     "execution_count": 173,
     "metadata": {},
     "output_type": "execute_result"
    }
   ],
   "source": [
    "#Training\n",
    "from sklearn.ensemble import GradientBoostingClassifier\n",
    "gb_model = GradientBoostingClassifier()\n",
    "gb_model.fit(X_train, y_train)"
   ]
  },
  {
   "cell_type": "code",
   "execution_count": 174,
   "id": "236f730e-5da4-494a-b575-d6cb8d9cc0d0",
   "metadata": {},
   "outputs": [
    {
     "data": {
      "text/plain": [
       "array([0, 0, 0, ..., 0, 1, 1])"
      ]
     },
     "execution_count": 174,
     "metadata": {},
     "output_type": "execute_result"
    }
   ],
   "source": [
    "#Predicting result using testing data\n",
    "y_gb_pred= gb_model.predict(X_test)\n",
    "y_gb_pred"
   ]
  },
  {
   "cell_type": "code",
   "execution_count": 175,
   "id": "6e6f7fcb-42a3-49b6-a7d0-e9f485e953b5",
   "metadata": {},
   "outputs": [
    {
     "name": "stdout",
     "output_type": "stream",
     "text": [
      "              precision    recall  f1-score   support\n",
      "\n",
      "           0       0.71      0.54      0.62      1132\n",
      "           1       0.67      0.81      0.73      1306\n",
      "\n",
      "    accuracy                           0.69      2438\n",
      "   macro avg       0.69      0.68      0.67      2438\n",
      "weighted avg       0.69      0.69      0.68      2438\n",
      "\n"
     ]
    }
   ],
   "source": [
    "#Model accuracy\n",
    "gb_cr=classification_report(y_test, y_gb_pred)\n",
    "print(gb_cr)"
   ]
  },
  {
   "cell_type": "markdown",
   "id": "14e5c050-8c40-4339-97d2-ce7f01947f5a",
   "metadata": {},
   "source": [
    "From the above calculated accuracies, it is clear that the Random Forest AND Gradient Boosting models performed better. However, I'm interested in a more efficient way of evaluating these models. Let's go for the Cross Validation methods using both K-Fold and Stratified K-Fold."
   ]
  },
  {
   "cell_type": "markdown",
   "id": "54c1bdcd-9c38-4fbc-a381-cf1fc09ba83b",
   "metadata": {},
   "source": [
    "CROSS VALIDATION\n",
    "\n",
    "K-Fold cross validation is a popular technique used in machine learning for model evaluation and selection. It involves dividing a dataset into K subsets of equal size, called folds. The algorithm then trains and evaluates the model K times, each time using a different fold as the validation set and the remaining K-1 folds as the training set.\n",
    "\n",
    "During each iteration of K-Fold cross validation, the model is trained on K-1 folds and evaluated on the remaining fold. The performance metrics are then averaged over all K iterations to obtain an estimate of the model's overall performance.\n",
    "\n",
    "K-Fold cross validation is a robust method for model evaluation because it uses all the available data for training and testing. It also helps to reduce the risk of overfitting and provides a more accurate estimate of the model's performance than using a single training-test split.\n",
    "\n",
    "Typically, values of K between 5 and 10 are used for K-Fold cross validation, but the optimal value of K may vary depending on the size and complexity of the dataset, as well as the type of model being evaluated.\n",
    "\n",
    "Here are some general guidelines that can help you choose an appropriate value of K:\n",
    "\n",
    "For small datasets, it is recommended to use a larger value of K, such as 10. This is because the larger value of K allows for more robust estimates of model performance, given the limited amount of data.\n",
    "\n",
    "For larger datasets, a smaller value of K can be used, such as 5. This is because a larger value of K will result in K smaller training sets, which may not be representative of the full dataset. Using a smaller value of K ensures that each fold has a sufficient amount of data for both training and testing.\n",
    "\n",
    "For models that are computationally expensive or time-consuming to train, a smaller value of K is preferred to reduce the overall training time.\n",
    "\n",
    "It's also essential to note that the choice of K should not be based solely on the accuracy of the model. Other metrics, such as precision, recall, and F1 score, should also be considered, as they can provide valuable insights into the performance of the model."
   ]
  },
  {
   "cell_type": "code",
   "execution_count": 177,
   "id": "8f9c594d-7541-41f5-868b-67ffe9235f0b",
   "metadata": {},
   "outputs": [
    {
     "name": "stdout",
     "output_type": "stream",
     "text": [
      "Logistic regression models' average accuracy: 0.5451195836454679\n",
      "Decision tree models' average accuracy: 0.6298196585577417\n",
      "KNN models' average accuracy: 0.5040008936902838\n",
      "Gaussian naive bayes models' average accuracy: 0.5451195836454679\n",
      "Support Vector Classifier models' average accuracy: 0.5451195836454679\n",
      "Random forest models' average accuracy: 0.6685800049941516\n",
      "Gradient boost models' average accuracy: 0.6896044369094086\n"
     ]
    }
   ],
   "source": [
    "# K-Fold Cross Validation\n",
    "\n",
    "from sklearn.model_selection import KFold\n",
    "from sklearn.model_selection import cross_val_score\n",
    "\n",
    "k = 5\n",
    "kf = KFold(n_splits=k, shuffle=True, random_state=42)\n",
    "\n",
    "\n",
    "# Logistic regression model\n",
    "lr_model_scores = cross_val_score(lr_model,X, y, cv=kf)\n",
    "\n",
    "# Decision tree model\n",
    "dt_model_scores = cross_val_score(dt_model,X, y, cv=kf)\n",
    "\n",
    "# KNN model\n",
    "knn_model_scores = cross_val_score(knn_model,X, y, cv=kf)\n",
    "\n",
    "# Gaussian naive bayes model\n",
    "gnb_model_scores = cross_val_score(gnb_model,X, y, cv=kf)\n",
    "\n",
    "# Support Vector Classifier model\n",
    "svc_model_scores = cross_val_score(svc_model,X, y, cv=kf)\n",
    "\n",
    "# Random forest model\n",
    "rf_model_scores = cross_val_score(rf_model,X, y, cv=kf)\n",
    "\n",
    "# Gradient boost model\n",
    "gb_model_scores = cross_val_score(gb_model,X, y, cv=kf)\n",
    "\n",
    "print(\"Logistic regression models' average accuracy:\", np.mean(lr_model_scores))\n",
    "print(\"Decision tree models' average accuracy:\", np.mean(dt_model_scores))\n",
    "print(\"KNN models' average accuracy:\", np.mean(knn_model_scores))\n",
    "print(\"Gaussian naive bayes models' average accuracy:\", np.mean(gnb_model_scores))\n",
    "print(\"Support Vector Classifier models' average accuracy:\", np.mean(svc_model_scores))\n",
    "print(\"Random forest models' average accuracy:\", np.mean(rf_model_scores))\n",
    "print(\"Gradient boost models' average accuracy:\", np.mean(gb_model_scores))\n",
    "\n"
   ]
  },
  {
   "cell_type": "markdown",
   "id": "c70ff873-d230-41b7-8ca6-579342d2386d",
   "metadata": {},
   "source": [
    "Stratified K-Fold cross-validation is a modification of the standard K-Fold cross-validation technique that is commonly used in machine learning when working with imbalanced datasets. The goal of Stratified K-Fold cross-validation is to ensure that each fold is representative of the overall dataset in terms of the class distribution.\n",
    "\n",
    "In standard K-Fold cross-validation, the data is split into K folds, and each fold is used as the validation set in turn. However, if the dataset has an imbalanced class distribution, this can lead to some of the folds having significantly fewer samples from the minority class, which can result in biased performance estimates.\n",
    "\n",
    "To address this issue, Stratified K-Fold cross-validation ensures that each fold has a similar proportion of samples from each class. It works by first dividing the dataset into K folds, as in standard K-Fold cross-validation. Then, for each fold, the algorithm ensures that the proportion of samples from each class is roughly the same as the proportion in the full dataset. This ensures that the model is evaluated on a representative sample of the data, regardless of the class distribution.\n",
    "\n",
    "Stratified K-Fold cross-validation is a powerful tool for evaluating the performance of machine learning models on imbalanced datasets. It can help to ensure that the model's performance is accurately estimated and that the model is robust to class imbalances in the dataset."
   ]
  },
  {
   "cell_type": "code",
   "execution_count": null,
   "id": "fab32512-6eda-42e4-929a-ffb8681c6586",
   "metadata": {},
   "outputs": [],
   "source": [
    "# K-Fold Cross Validation\n",
    "\n",
    "from sklearn.model_selection import StratifiedKFold\n",
    "from sklearn.model_selection import cross_val_score\n",
    "\n",
    "k = 5\n",
    "kf = StratifiedKFold(n_splits=k)\n",
    "\n",
    "# Logistic regression model\n",
    "lr_model_scores = cross_val_score(lr_model,X, y, cv=kf)\n",
    "\n",
    "# Decision tree model\n",
    "dt_model_scores = cross_val_score(dt_model,X, y, cv=kf)\n",
    "\n",
    "# KNN model\n",
    "knn_model_scores = cross_val_score(knn_model,X, y, cv=kf)\n",
    "\n",
    "# Gaussian naive bayes model\n",
    "gnb_model_scores = cross_val_score(gnb_model,X, y, cv=kf)\n",
    "\n",
    "# Support Vector Classifier model\n",
    "svc_model_scores = cross_val_score(svc_model,X, y, cv=kf)\n",
    "\n",
    "# Random forest model\n",
    "rf_model_scores = cross_val_score(rf_model,X, y, cv=kf)\n",
    "\n",
    "\n",
    "\n",
    "\n",
    "print(\"Logistic regression models' average accuracy:\", np.mean(lr_model_scores))\n",
    "print(\"Decision tree models' average accuracy:\", np.mean(dt_model_scores))\n",
    "print(\"KNN models' average accuracy:\", np.mean(knn_model_scores))\n",
    "print(\"Gaussian naive bayes models' average accuracy:\", np.mean(gnb_model_scores))\n",
    "print(\"Support Vector Classifier models' average accuracy:\", np.mean(svc_model_scores))\n",
    "print(\"Random forest models' average accuracy:\", np.mean(rf_model_scores))\n"
   ]
  }
 ],
 "metadata": {
  "kernelspec": {
   "display_name": "Python 3 (ipykernel)",
   "language": "python",
   "name": "python3"
  },
  "language_info": {
   "codemirror_mode": {
    "name": "ipython",
    "version": 3
   },
   "file_extension": ".py",
   "mimetype": "text/x-python",
   "name": "python",
   "nbconvert_exporter": "python",
   "pygments_lexer": "ipython3",
   "version": "3.8.18"
  }
 },
 "nbformat": 4,
 "nbformat_minor": 5
}
